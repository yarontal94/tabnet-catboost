{
 "cells": [
  {
   "cell_type": "code",
   "execution_count": 255,
   "metadata": {},
   "outputs": [],
   "source": [
    "import pandas as pd\n",
    "import numpy as np\n",
    "import seaborn as sns\n",
    "import matplotlib.pyplot as plt\n",
    "from sklearn.base import BaseEstimator\n",
    "from sklearn.base import TransformerMixin\n",
    "from sklearn.pipeline import make_pipeline\n",
    "from sklearn.model_selection import train_test_split\n",
    "from sklearn.preprocessing import MinMaxScaler\n",
    "from sklearn.preprocessing import StandardScaler\n",
    "from sklearn.svm import SVC\n",
    "from sklearn.model_selection import GridSearchCV\n",
    "from sklearn.linear_model import LogisticRegression\n",
    "from sklearn import metrics\n",
    "from sklearn import ensemble\n",
    "from sklearn.base import clone\n",
    "from sklearn.metrics import classification_report\n",
    "from sklearn.metrics import roc_auc_score\n",
    "from pytorch_tabnet.tab_model import TabNetClassifier\n",
    "\n",
    "sns.set_theme(style='darkgrid')"
   ]
  },
  {
   "cell_type": "code",
   "execution_count": 256,
   "metadata": {},
   "outputs": [],
   "source": [
    "df = pd.read_csv(\"income_pred.csv\")"
   ]
  },
  {
   "cell_type": "code",
   "execution_count": 257,
   "metadata": {},
   "outputs": [],
   "source": [
    "class custom_scaler(BaseEstimator, TransformerMixin):\n",
    "    \n",
    "    def __init__(self, scaler_name = 'minmax'):\n",
    "        self.scaler_name = scaler_name\n",
    "        self.scaler = None\n",
    "        \n",
    "    def fit(self, X, y=None):\n",
    "        self.columns = X.columns\n",
    "        if(self.scaler_name == 'minmax'):\n",
    "            scaler = MinMaxScaler()\n",
    "        \n",
    "        elif (self.scaler_name == 'standard'):\n",
    "            scaler = StandardScaler()\n",
    "        \n",
    "        self.scaler = scaler.fit(X)\n",
    "        return self\n",
    "    \n",
    "    def transform(self, X, y=None):\n",
    "        names = X.columns\n",
    "        scaled_data = self.scaler.transform(X)\n",
    "        X = pd.DataFrame(data=scaled_data, columns=names)\n",
    "        return X\n",
    "    \n",
    "    def fit_transform(self, X, y=None):\n",
    "        return self.fit(X).transform(X)\n",
    "    "
   ]
  },
  {
   "cell_type": "markdown",
   "metadata": {},
   "source": [
    "Scaling transformer"
   ]
  },
  {
   "cell_type": "code",
   "execution_count": 258,
   "metadata": {},
   "outputs": [
    {
     "data": {
      "text/plain": [
       "ID                 0\n",
       "age                0\n",
       "workclass          0\n",
       "fnlwgt:            0\n",
       "education:         0\n",
       "education-num:     0\n",
       "marital-status:    0\n",
       "occupation:        0\n",
       "relationship:      0\n",
       "race:              0\n",
       "sex:               0\n",
       "capital-gain:      0\n",
       "capital-loss:      0\n",
       "hours-per-week:    0\n",
       "native-country:    0\n",
       "class              0\n",
       "dtype: int64"
      ]
     },
     "execution_count": 258,
     "metadata": {},
     "output_type": "execute_result"
    }
   ],
   "source": [
    "df.isnull().sum()"
   ]
  },
  {
   "cell_type": "markdown",
   "metadata": {},
   "source": [
    "No missing values, no filling transformers needed"
   ]
  },
  {
   "cell_type": "code",
   "execution_count": 259,
   "metadata": {},
   "outputs": [
    {
     "data": {
      "text/plain": [
       "ID                  int64\n",
       "age                 int64\n",
       "workclass          object\n",
       "fnlwgt:             int64\n",
       "education:         object\n",
       "education-num:      int64\n",
       "marital-status:    object\n",
       "occupation:        object\n",
       "relationship:      object\n",
       "race:              object\n",
       "sex:               object\n",
       "capital-gain:       int64\n",
       "capital-loss:       int64\n",
       "hours-per-week:     int64\n",
       "native-country:    object\n",
       "class              object\n",
       "dtype: object"
      ]
     },
     "execution_count": 259,
     "metadata": {},
     "output_type": "execute_result"
    }
   ],
   "source": [
    "df.dtypes"
   ]
  },
  {
   "cell_type": "code",
   "execution_count": 260,
   "metadata": {},
   "outputs": [
    {
     "data": {
      "text/plain": [
       "36    898\n",
       "31    888\n",
       "34    886\n",
       "23    877\n",
       "35    876\n",
       "     ... \n",
       "83      6\n",
       "88      3\n",
       "85      3\n",
       "86      1\n",
       "87      1\n",
       "Name: age, Length: 73, dtype: int64"
      ]
     },
     "execution_count": 260,
     "metadata": {},
     "output_type": "execute_result"
    }
   ],
   "source": [
    "df['age'].value_counts()"
   ]
  },
  {
   "cell_type": "code",
   "execution_count": 261,
   "metadata": {},
   "outputs": [],
   "source": [
    "df = df[:-1]"
   ]
  },
  {
   "cell_type": "code",
   "execution_count": 262,
   "metadata": {},
   "outputs": [],
   "source": [
    "dict = {'fnlwgt:': 'fnlwgt',\n",
    "        'education:': 'education',\n",
    "        'education-num:': 'education-num',\n",
    "        'marital-status:': 'marital-status',\n",
    "        'occupation:': 'occupation',\n",
    "        'relationship:': 'relationship',\n",
    "        'race:': 'race',\n",
    "        'sex:': 'sex',\n",
    "        'capital-gain:': 'capital-gain',\n",
    "        'capital-loss:': 'capital-loss',\n",
    "        'hours-per-week:': 'hours-per-week',\n",
    "        'native-country:': 'native-country',\n",
    "        'class': 'target'\n",
    "       }\n",
    "  \n",
    "# call rename () method\n",
    "df.rename(columns=dict,\n",
    "          inplace=True)"
   ]
  },
  {
   "cell_type": "code",
   "execution_count": 263,
   "metadata": {},
   "outputs": [],
   "source": [
    "df['target']=df['target'].map({'<=50K': 0, '>50K': 1})"
   ]
  },
  {
   "cell_type": "markdown",
   "metadata": {},
   "source": [
    "Change target value to a binary value"
   ]
  },
  {
   "cell_type": "code",
   "execution_count": 264,
   "metadata": {},
   "outputs": [
    {
     "data": {
      "text/plain": [
       "0    24720\n",
       "1     7840\n",
       "Name: target, dtype: int64"
      ]
     },
     "execution_count": 264,
     "metadata": {},
     "output_type": "execute_result"
    }
   ],
   "source": [
    "df['target'].value_counts()"
   ]
  },
  {
   "cell_type": "code",
   "execution_count": 265,
   "metadata": {},
   "outputs": [],
   "source": [
    "df.loc[df['sex']=='Male', 'sex']=0\n",
    "df.loc[df['sex']=='Female', 'sex']=1"
   ]
  },
  {
   "cell_type": "markdown",
   "metadata": {},
   "source": [
    "Binarizing sex"
   ]
  },
  {
   "cell_type": "code",
   "execution_count": 266,
   "metadata": {},
   "outputs": [
    {
     "data": {
      "text/plain": [
       "0    21790\n",
       "1    10770\n",
       "Name: sex, dtype: int64"
      ]
     },
     "execution_count": 266,
     "metadata": {},
     "output_type": "execute_result"
    }
   ],
   "source": [
    "df['sex'].value_counts()"
   ]
  },
  {
   "cell_type": "markdown",
   "metadata": {},
   "source": [
    "Seems there are twice men than women, should check with relationship to confirm."
   ]
  },
  {
   "cell_type": "code",
   "execution_count": 267,
   "metadata": {},
   "outputs": [
    {
     "data": {
      "text/plain": [
       "<AxesSubplot:xlabel='relationship', ylabel='count'>"
      ]
     },
     "execution_count": 267,
     "metadata": {},
     "output_type": "execute_result"
    },
    {
     "data": {
      "image/png": "[encoded data removed]",
      "text/plain": [
       "<Figure size 1800x720 with 1 Axes>"
      ]
     },
     "metadata": {},
     "output_type": "display_data"
    }
   ],
   "source": [
    "plt.figure(figsize=(25,10))\n",
    "sns.countplot(data= df, x = \"relationship\")"
   ]
  },
  {
   "cell_type": "markdown",
   "metadata": {},
   "source": [
    "Confirmed. A lot more males than females."
   ]
  },
  {
   "cell_type": "code",
   "execution_count": 268,
   "metadata": {},
   "outputs": [
    {
     "data": {
      "text/plain": [
       "Married-civ-spouse       14975\n",
       "Never-married            10683\n",
       "Divorced                  4443\n",
       "Separated                 1025\n",
       "Widowed                    993\n",
       "Married-spouse-absent      418\n",
       "Married-AF-spouse           23\n",
       "Name: marital-status, dtype: int64"
      ]
     },
     "execution_count": 268,
     "metadata": {},
     "output_type": "execute_result"
    }
   ],
   "source": [
    "df['marital-status'].value_counts()"
   ]
  },
  {
   "cell_type": "code",
   "execution_count": 269,
   "metadata": {},
   "outputs": [
    {
     "data": {
      "text/plain": [
       "<AxesSubplot:xlabel='marital-status', ylabel='count'>"
      ]
     },
     "execution_count": 269,
     "metadata": {},
     "output_type": "execute_result"
    },
    {
     "data": {
      "image/png": "[encoded data removed]",
      "text/plain": [
       "<Figure size 1800x720 with 1 Axes>"
      ]
     },
     "metadata": {},
     "output_type": "display_data"
    }
   ],
   "source": [
    "plt.figure(figsize=(25,10))\n",
    "sns.countplot(data= df, x = \"marital-status\")"
   ]
  },
  {
   "cell_type": "code",
   "execution_count": 270,
   "metadata": {},
   "outputs": [],
   "source": [
    "df['marital-status'] = df['marital-status'].replace(['Divorced','Never-married','Widowed'],'single')\n",
    "df['marital-status'] = df['marital-status'].replace(['Married-civ-spouse','Separated','Married-spouse-absent','Married-AF-spouse'],'married')"
   ]
  },
  {
   "cell_type": "markdown",
   "metadata": {},
   "source": [
    "Gahering everyone as single/married"
   ]
  },
  {
   "cell_type": "code",
   "execution_count": 271,
   "metadata": {},
   "outputs": [
    {
     "data": {
      "text/plain": [
       "married    16441\n",
       "single     16119\n",
       "Name: marital-status, dtype: int64"
      ]
     },
     "execution_count": 271,
     "metadata": {},
     "output_type": "execute_result"
    }
   ],
   "source": [
    "df['marital-status'].value_counts()"
   ]
  },
  {
   "cell_type": "markdown",
   "metadata": {},
   "source": [
    "Good. Now the values are almost even."
   ]
  },
  {
   "cell_type": "code",
   "execution_count": 272,
   "metadata": {},
   "outputs": [
    {
     "data": {
      "text/plain": [
       "Private             22696\n",
       "Self-emp-not-inc     2541\n",
       "Local-gov            2093\n",
       "?                    1836\n",
       "State-gov            1298\n",
       "Self-emp-inc         1115\n",
       "Federal-gov           960\n",
       "Without-pay            14\n",
       "Never-worked            7\n",
       "Name: workclass, dtype: int64"
      ]
     },
     "execution_count": 272,
     "metadata": {},
     "output_type": "execute_result"
    }
   ],
   "source": [
    "df['workclass'].value_counts()"
   ]
  },
  {
   "cell_type": "code",
   "execution_count": 273,
   "metadata": {},
   "outputs": [
    {
     "data": {
      "text/plain": [
       "<AxesSubplot:xlabel='workclass', ylabel='count'>"
      ]
     },
     "execution_count": 273,
     "metadata": {},
     "output_type": "execute_result"
    },
    {
     "data": {
      "image/png": "[encoded data removed]",
      "text/plain": [
       "<Figure size 1800x720 with 1 Axes>"
      ]
     },
     "metadata": {},
     "output_type": "display_data"
    }
   ],
   "source": [
    "plt.figure(figsize=(25,10))\n",
    "sns.countplot(data = df, x = df['workclass'])"
   ]
  },
  {
   "cell_type": "code",
   "execution_count": 274,
   "metadata": {},
   "outputs": [],
   "source": [
    "df.drop(df.index[df['workclass'] == 'Without-pay'], inplace=True)\n",
    "df.drop(df.index[df['workclass'] == 'Never-worked'], inplace=True)\n",
    "df.drop(df.index[df['workclass'] == '?'], inplace=True)"
   ]
  },
  {
   "cell_type": "markdown",
   "metadata": {},
   "source": [
    "Dropping 2 classes which do not earn any money, so they are irrelevant.\n",
    "Also dropping '?' type of workclass, it could impact the model so I rather get rid of them."
   ]
  },
  {
   "cell_type": "code",
   "execution_count": 275,
   "metadata": {},
   "outputs": [
    {
     "data": {
      "text/plain": [
       "United-States                 27490\n",
       "Mexico                          610\n",
       "?                               556\n",
       "Philippines                     187\n",
       "Germany                         128\n",
       "Puerto-Rico                     109\n",
       "Canada                          107\n",
       "India                           100\n",
       "El-Salvador                     100\n",
       "Cuba                             92\n",
       "England                          86\n",
       "Jamaica                          80\n",
       "South                            71\n",
       "China                            68\n",
       "Italy                            68\n",
       "Dominican-Republic               67\n",
       "Vietnam                          64\n",
       "Guatemala                        63\n",
       "Japan                            59\n",
       "Poland                           56\n",
       "Columbia                         56\n",
       "Iran                             42\n",
       "Taiwan                           42\n",
       "Haiti                            42\n",
       "Portugal                         34\n",
       "Nicaragua                        33\n",
       "Peru                             30\n",
       "Greece                           29\n",
       "France                           27\n",
       "Ecuador                          27\n",
       "Ireland                          24\n",
       "Hong                             19\n",
       "Cambodia                         18\n",
       "Trinadad&Tobago                  18\n",
       "Thailand                         17\n",
       "Laos                             17\n",
       "Yugoslavia                       16\n",
       "Outlying-US(Guam-USVI-etc)       14\n",
       "Hungary                          13\n",
       "Honduras                         12\n",
       "Scotland                         11\n",
       "Holand-Netherlands                1\n",
       "Name: native-country, dtype: int64"
      ]
     },
     "execution_count": 275,
     "metadata": {},
     "output_type": "execute_result"
    }
   ],
   "source": [
    "df['native-country'].value_counts()"
   ]
  },
  {
   "cell_type": "markdown",
   "metadata": {},
   "source": [
    "I think it is safe to say that the data collected at the US. Therefore, I would remove everyone besides the US borned."
   ]
  },
  {
   "cell_type": "code",
   "execution_count": 276,
   "metadata": {},
   "outputs": [],
   "source": [
    "df=df[df['native-country']=='United-States']"
   ]
  },
  {
   "cell_type": "markdown",
   "metadata": {},
   "source": [
    "Now, the column is useless, we will get ridd of it."
   ]
  },
  {
   "cell_type": "code",
   "execution_count": 277,
   "metadata": {},
   "outputs": [],
   "source": [
    "df=df.drop(columns='native-country',axis=1)"
   ]
  },
  {
   "cell_type": "code",
   "execution_count": 278,
   "metadata": {},
   "outputs": [
    {
     "data": {
      "text/plain": [
       "<AxesSubplot:xlabel='race', ylabel='count'>"
      ]
     },
     "execution_count": 278,
     "metadata": {},
     "output_type": "execute_result"
    },
    {
     "data": {
      "image/png": "[encoded data removed]",
      "text/plain": [
       "<Figure size 1440x720 with 1 Axes>"
      ]
     },
     "metadata": {},
     "output_type": "display_data"
    }
   ],
   "source": [
    "plt.figure(figsize = (20,10))\n",
    "sns.countplot(data = df, x = df['race'])"
   ]
  },
  {
   "cell_type": "markdown",
   "metadata": {},
   "source": [
    "A majority of white race noted"
   ]
  },
  {
   "cell_type": "code",
   "execution_count": 279,
   "metadata": {},
   "outputs": [
    {
     "data": {
      "text/plain": [
       "<AxesSubplot:xlabel='education', ylabel='count'>"
      ]
     },
     "execution_count": 279,
     "metadata": {},
     "output_type": "execute_result"
    },
    {
     "data": {
      "image/png": "[encoded data removed]",
      "text/plain": [
       "<Figure size 1800x720 with 1 Axes>"
      ]
     },
     "metadata": {},
     "output_type": "display_data"
    }
   ],
   "source": [
    "plt.figure(figsize = (25,10))\n",
    "sns.countplot(data= df, x = \"education\")"
   ]
  },
  {
   "cell_type": "markdown",
   "metadata": {},
   "source": [
    "A lot of education types. I will gather them by bins."
   ]
  },
  {
   "cell_type": "code",
   "execution_count": 280,
   "metadata": {},
   "outputs": [],
   "source": [
    "df['education'] = df['education'].replace(['1st-4th','5th-6th'],'elementary-school')\n",
    "df['education'] = df['education'].replace(['7th-8th'],'middle-school')\n",
    "df['education'] = df['education'].replace(['9th','10th','11th','12th'],'high-school')\n",
    "df['education'] = df['education'].replace(['Doctorate','Bachelors','Some-college','Masters','Prof-school','Assoc-voc','Assoc-acdm'],'academic')\n",
    "df.drop(df.index[df['education'] == 'Preschool'], inplace=True)"
   ]
  },
  {
   "cell_type": "code",
   "execution_count": 281,
   "metadata": {},
   "outputs": [
    {
     "data": {
      "text/plain": [
       "academic             15332\n",
       "HS-grad               9200\n",
       "high-school           2390\n",
       "middle-school          436\n",
       "elementary-school      117\n",
       "Name: education, dtype: int64"
      ]
     },
     "execution_count": 281,
     "metadata": {},
     "output_type": "execute_result"
    }
   ],
   "source": [
    "df['education'].value_counts()"
   ]
  },
  {
   "cell_type": "code",
   "execution_count": 282,
   "metadata": {},
   "outputs": [
    {
     "data": {
      "text/plain": [
       "<AxesSubplot:xlabel='occupation', ylabel='count'>"
      ]
     },
     "execution_count": 282,
     "metadata": {},
     "output_type": "execute_result"
    },
    {
     "data": {
      "image/png": "[encoded data removed]",
      "text/plain": [
       "<Figure size 1440x720 with 1 Axes>"
      ]
     },
     "metadata": {},
     "output_type": "display_data"
    }
   ],
   "source": [
    "plt.figure(figsize=(20,10)) \n",
    "sns.countplot(data= df, x = \"occupation\")"
   ]
  },
  {
   "cell_type": "code",
   "execution_count": 283,
   "metadata": {},
   "outputs": [],
   "source": [
    "numeric = ['age', 'fnlwgy', 'education-num', 'capital-gain', 'capital-loss', 'hours-per-week', 'class']\n",
    "categorical= ['workclass', 'education', 'marital-status', 'occupation', 'relationship', 'race']"
   ]
  },
  {
   "cell_type": "code",
   "execution_count": 284,
   "metadata": {},
   "outputs": [
    {
     "data": {
      "text/html": [
       "<div>\n",
       "<style scoped>\n",
       "    .dataframe tbody tr th:only-of-type {\n",
       "        vertical-align: middle;\n",
       "    }\n",
       "\n",
       "    .dataframe tbody tr th {\n",
       "        vertical-align: top;\n",
       "    }\n",
       "\n",
       "    .dataframe thead th {\n",
       "        text-align: right;\n",
       "    }\n",
       "</style>\n",
       "<table border=\"1\" class=\"dataframe\">\n",
       "  <thead>\n",
       "    <tr style=\"text-align: right;\">\n",
       "      <th></th>\n",
       "      <th>ID</th>\n",
       "      <th>age</th>\n",
       "      <th>workclass</th>\n",
       "      <th>fnlwgt</th>\n",
       "      <th>education</th>\n",
       "      <th>education-num</th>\n",
       "      <th>marital-status</th>\n",
       "      <th>occupation</th>\n",
       "      <th>relationship</th>\n",
       "      <th>race</th>\n",
       "      <th>sex</th>\n",
       "      <th>capital-gain</th>\n",
       "      <th>capital-loss</th>\n",
       "      <th>hours-per-week</th>\n",
       "      <th>target</th>\n",
       "    </tr>\n",
       "  </thead>\n",
       "  <tbody>\n",
       "    <tr>\n",
       "      <th>0</th>\n",
       "      <td>1</td>\n",
       "      <td>39</td>\n",
       "      <td>State-gov</td>\n",
       "      <td>77516</td>\n",
       "      <td>academic</td>\n",
       "      <td>13</td>\n",
       "      <td>single</td>\n",
       "      <td>Adm-clerical</td>\n",
       "      <td>Not-in-family</td>\n",
       "      <td>White</td>\n",
       "      <td>0</td>\n",
       "      <td>2174</td>\n",
       "      <td>0</td>\n",
       "      <td>40</td>\n",
       "      <td>0</td>\n",
       "    </tr>\n",
       "    <tr>\n",
       "      <th>1</th>\n",
       "      <td>2</td>\n",
       "      <td>50</td>\n",
       "      <td>Self-emp-not-inc</td>\n",
       "      <td>83311</td>\n",
       "      <td>academic</td>\n",
       "      <td>13</td>\n",
       "      <td>married</td>\n",
       "      <td>Exec-managerial</td>\n",
       "      <td>Husband</td>\n",
       "      <td>White</td>\n",
       "      <td>0</td>\n",
       "      <td>0</td>\n",
       "      <td>0</td>\n",
       "      <td>13</td>\n",
       "      <td>0</td>\n",
       "    </tr>\n",
       "    <tr>\n",
       "      <th>2</th>\n",
       "      <td>3</td>\n",
       "      <td>38</td>\n",
       "      <td>Private</td>\n",
       "      <td>215646</td>\n",
       "      <td>HS-grad</td>\n",
       "      <td>9</td>\n",
       "      <td>single</td>\n",
       "      <td>Handlers-cleaners</td>\n",
       "      <td>Not-in-family</td>\n",
       "      <td>White</td>\n",
       "      <td>0</td>\n",
       "      <td>0</td>\n",
       "      <td>0</td>\n",
       "      <td>40</td>\n",
       "      <td>0</td>\n",
       "    </tr>\n",
       "    <tr>\n",
       "      <th>3</th>\n",
       "      <td>4</td>\n",
       "      <td>53</td>\n",
       "      <td>Private</td>\n",
       "      <td>234721</td>\n",
       "      <td>high-school</td>\n",
       "      <td>7</td>\n",
       "      <td>married</td>\n",
       "      <td>Handlers-cleaners</td>\n",
       "      <td>Husband</td>\n",
       "      <td>Black</td>\n",
       "      <td>0</td>\n",
       "      <td>0</td>\n",
       "      <td>0</td>\n",
       "      <td>40</td>\n",
       "      <td>0</td>\n",
       "    </tr>\n",
       "    <tr>\n",
       "      <th>5</th>\n",
       "      <td>6</td>\n",
       "      <td>37</td>\n",
       "      <td>Private</td>\n",
       "      <td>284582</td>\n",
       "      <td>academic</td>\n",
       "      <td>14</td>\n",
       "      <td>married</td>\n",
       "      <td>Exec-managerial</td>\n",
       "      <td>Wife</td>\n",
       "      <td>White</td>\n",
       "      <td>1</td>\n",
       "      <td>0</td>\n",
       "      <td>0</td>\n",
       "      <td>40</td>\n",
       "      <td>0</td>\n",
       "    </tr>\n",
       "  </tbody>\n",
       "</table>\n",
       "</div>"
      ],
      "text/plain": [
       "   ID  age         workclass  fnlwgt    education  education-num  \\\n",
       "0   1   39         State-gov   77516     academic             13   \n",
       "1   2   50  Self-emp-not-inc   83311     academic             13   \n",
       "2   3   38           Private  215646      HS-grad              9   \n",
       "3   4   53           Private  234721  high-school              7   \n",
       "5   6   37           Private  284582     academic             14   \n",
       "\n",
       "  marital-status         occupation   relationship   race sex  capital-gain  \\\n",
       "0         single       Adm-clerical  Not-in-family  White   0          2174   \n",
       "1        married    Exec-managerial        Husband  White   0             0   \n",
       "2         single  Handlers-cleaners  Not-in-family  White   0             0   \n",
       "3        married  Handlers-cleaners        Husband  Black   0             0   \n",
       "5        married    Exec-managerial           Wife  White   1             0   \n",
       "\n",
       "   capital-loss  hours-per-week  target  \n",
       "0             0              40       0  \n",
       "1             0              13       0  \n",
       "2             0              40       0  \n",
       "3             0              40       0  \n",
       "5             0              40       0  "
      ]
     },
     "execution_count": 284,
     "metadata": {},
     "output_type": "execute_result"
    }
   ],
   "source": [
    "df.head()"
   ]
  },
  {
   "cell_type": "code",
   "execution_count": 285,
   "metadata": {},
   "outputs": [
    {
     "data": {
      "image/png": "[encoded data removed]",
      "text/plain": [
       "<Figure size 1800x1800 with 2 Axes>"
      ]
     },
     "metadata": {},
     "output_type": "display_data"
    }
   ],
   "source": [
    "figure = plt.figure(figsize=(25,25))\n",
    "corr_matrix = df.corr()\n",
    "sns.heatmap(data=corr_matrix,annot=True)\n",
    "plt.show()"
   ]
  },
  {
   "cell_type": "markdown",
   "metadata": {},
   "source": [
    "Education seems to be the strongest corralation, yet not strong enough to be noted."
   ]
  },
  {
   "cell_type": "code",
   "execution_count": 286,
   "metadata": {},
   "outputs": [],
   "source": [
    "df = pd.get_dummies(data=df, columns=categorical)"
   ]
  },
  {
   "cell_type": "markdown",
   "metadata": {},
   "source": [
    "Using dummies to create a sort of One-Hot for the categorical values"
   ]
  },
  {
   "cell_type": "code",
   "execution_count": 287,
   "metadata": {},
   "outputs": [
    {
     "data": {
      "text/plain": [
       "Index(['ID', 'age', 'fnlwgt', 'education-num', 'sex', 'capital-gain',\n",
       "       'capital-loss', 'hours-per-week', 'target', 'workclass_Federal-gov',\n",
       "       'workclass_Local-gov', 'workclass_Private', 'workclass_Self-emp-inc',\n",
       "       'workclass_Self-emp-not-inc', 'workclass_State-gov',\n",
       "       'education_HS-grad', 'education_academic',\n",
       "       'education_elementary-school', 'education_high-school',\n",
       "       'education_middle-school', 'marital-status_married',\n",
       "       'marital-status_single', 'occupation_Adm-clerical',\n",
       "       'occupation_Armed-Forces', 'occupation_Craft-repair',\n",
       "       'occupation_Exec-managerial', 'occupation_Farming-fishing',\n",
       "       'occupation_Handlers-cleaners', 'occupation_Machine-op-inspct',\n",
       "       'occupation_Other-service', 'occupation_Priv-house-serv',\n",
       "       'occupation_Prof-specialty', 'occupation_Protective-serv',\n",
       "       'occupation_Sales', 'occupation_Tech-support',\n",
       "       'occupation_Transport-moving', 'relationship_Husband',\n",
       "       'relationship_Not-in-family', 'relationship_Other-relative',\n",
       "       'relationship_Own-child', 'relationship_Unmarried', 'relationship_Wife',\n",
       "       'race_Amer-Indian-Eskimo', 'race_Asian-Pac-Islander', 'race_Black',\n",
       "       'race_Other', 'race_White'],\n",
       "      dtype='object')"
      ]
     },
     "execution_count": 287,
     "metadata": {},
     "output_type": "execute_result"
    }
   ],
   "source": [
    "df.columns"
   ]
  },
  {
   "cell_type": "code",
   "execution_count": 288,
   "metadata": {},
   "outputs": [],
   "source": [
    "preprocessPipeline = make_pipeline(custom_scaler(scaler_name='minmax'))"
   ]
  },
  {
   "cell_type": "code",
   "execution_count": 289,
   "metadata": {},
   "outputs": [],
   "source": [
    "data_train, data_test = train_test_split(df, test_size = 0.4, stratify=df['target'], random_state=17)"
   ]
  },
  {
   "cell_type": "code",
   "execution_count": 290,
   "metadata": {},
   "outputs": [],
   "source": [
    "data_val, data_test = train_test_split(data_test, test_size = 0.5, random_state=17)"
   ]
  },
  {
   "cell_type": "code",
   "execution_count": 291,
   "metadata": {},
   "outputs": [
    {
     "data": {
      "text/plain": [
       "0    12289\n",
       "1     4196\n",
       "Name: target, dtype: int64"
      ]
     },
     "execution_count": 291,
     "metadata": {},
     "output_type": "execute_result"
    }
   ],
   "source": [
    "data_train['target'].value_counts()"
   ]
  },
  {
   "cell_type": "code",
   "execution_count": 292,
   "metadata": {},
   "outputs": [
    {
     "data": {
      "text/plain": [
       "5495"
      ]
     },
     "execution_count": 292,
     "metadata": {},
     "output_type": "execute_result"
    }
   ],
   "source": [
    "data_test['target'].value_counts().sum()"
   ]
  },
  {
   "cell_type": "code",
   "execution_count": 293,
   "metadata": {},
   "outputs": [],
   "source": [
    "data_train_target = data_train['target']\n",
    "data_test_target = data_test['target']\n",
    "data_val_target = data_val['target']\n"
   ]
  },
  {
   "cell_type": "code",
   "execution_count": 294,
   "metadata": {},
   "outputs": [],
   "source": [
    "trainn = data_train_target\n",
    "testt = data_test_target\n",
    "vall=data_val_target"
   ]
  },
  {
   "cell_type": "code",
   "execution_count": 295,
   "metadata": {},
   "outputs": [],
   "source": [
    "data_train = data_train.drop('target', axis = 1)\n",
    "data_test = data_test.drop('target', axis = 1)\n",
    "data_val = data_val.drop('target', axis = 1)"
   ]
  },
  {
   "cell_type": "code",
   "execution_count": 296,
   "metadata": {},
   "outputs": [],
   "source": [
    "data_train = preprocessPipeline.fit_transform(data_train)\n",
    "data_test = preprocessPipeline.transform(data_test)\n",
    "data_val = preprocessPipeline.transform(data_val)"
   ]
  },
  {
   "cell_type": "code",
   "execution_count": 297,
   "metadata": {},
   "outputs": [
    {
     "data": {
      "text/html": [
       "<div>\n",
       "<style scoped>\n",
       "    .dataframe tbody tr th:only-of-type {\n",
       "        vertical-align: middle;\n",
       "    }\n",
       "\n",
       "    .dataframe tbody tr th {\n",
       "        vertical-align: top;\n",
       "    }\n",
       "\n",
       "    .dataframe thead th {\n",
       "        text-align: right;\n",
       "    }\n",
       "</style>\n",
       "<table border=\"1\" class=\"dataframe\">\n",
       "  <thead>\n",
       "    <tr style=\"text-align: right;\">\n",
       "      <th></th>\n",
       "      <th>ID</th>\n",
       "      <th>age</th>\n",
       "      <th>fnlwgt</th>\n",
       "      <th>education-num</th>\n",
       "      <th>sex</th>\n",
       "      <th>capital-gain</th>\n",
       "      <th>capital-loss</th>\n",
       "      <th>hours-per-week</th>\n",
       "      <th>workclass_Federal-gov</th>\n",
       "      <th>workclass_Local-gov</th>\n",
       "      <th>...</th>\n",
       "      <th>relationship_Not-in-family</th>\n",
       "      <th>relationship_Other-relative</th>\n",
       "      <th>relationship_Own-child</th>\n",
       "      <th>relationship_Unmarried</th>\n",
       "      <th>relationship_Wife</th>\n",
       "      <th>race_Amer-Indian-Eskimo</th>\n",
       "      <th>race_Asian-Pac-Islander</th>\n",
       "      <th>race_Black</th>\n",
       "      <th>race_Other</th>\n",
       "      <th>race_White</th>\n",
       "    </tr>\n",
       "  </thead>\n",
       "  <tbody>\n",
       "    <tr>\n",
       "      <th>0</th>\n",
       "      <td>0.237661</td>\n",
       "      <td>0.150685</td>\n",
       "      <td>0.046747</td>\n",
       "      <td>0.571429</td>\n",
       "      <td>0.0</td>\n",
       "      <td>0.000000</td>\n",
       "      <td>0.0</td>\n",
       "      <td>0.397959</td>\n",
       "      <td>0.0</td>\n",
       "      <td>0.0</td>\n",
       "      <td>...</td>\n",
       "      <td>1.0</td>\n",
       "      <td>0.0</td>\n",
       "      <td>0.0</td>\n",
       "      <td>0.0</td>\n",
       "      <td>0.0</td>\n",
       "      <td>0.0</td>\n",
       "      <td>0.0</td>\n",
       "      <td>1.0</td>\n",
       "      <td>0.0</td>\n",
       "      <td>0.0</td>\n",
       "    </tr>\n",
       "    <tr>\n",
       "      <th>1</th>\n",
       "      <td>0.929205</td>\n",
       "      <td>0.589041</td>\n",
       "      <td>0.265310</td>\n",
       "      <td>0.500000</td>\n",
       "      <td>0.0</td>\n",
       "      <td>0.105201</td>\n",
       "      <td>0.0</td>\n",
       "      <td>0.397959</td>\n",
       "      <td>1.0</td>\n",
       "      <td>0.0</td>\n",
       "      <td>...</td>\n",
       "      <td>1.0</td>\n",
       "      <td>0.0</td>\n",
       "      <td>0.0</td>\n",
       "      <td>0.0</td>\n",
       "      <td>0.0</td>\n",
       "      <td>0.0</td>\n",
       "      <td>0.0</td>\n",
       "      <td>0.0</td>\n",
       "      <td>0.0</td>\n",
       "      <td>1.0</td>\n",
       "    </tr>\n",
       "    <tr>\n",
       "      <th>2</th>\n",
       "      <td>0.262262</td>\n",
       "      <td>0.068493</td>\n",
       "      <td>0.025387</td>\n",
       "      <td>0.571429</td>\n",
       "      <td>1.0</td>\n",
       "      <td>0.000000</td>\n",
       "      <td>0.0</td>\n",
       "      <td>0.397959</td>\n",
       "      <td>0.0</td>\n",
       "      <td>0.0</td>\n",
       "      <td>...</td>\n",
       "      <td>1.0</td>\n",
       "      <td>0.0</td>\n",
       "      <td>0.0</td>\n",
       "      <td>0.0</td>\n",
       "      <td>0.0</td>\n",
       "      <td>0.0</td>\n",
       "      <td>0.0</td>\n",
       "      <td>0.0</td>\n",
       "      <td>0.0</td>\n",
       "      <td>1.0</td>\n",
       "    </tr>\n",
       "    <tr>\n",
       "      <th>3</th>\n",
       "      <td>0.585982</td>\n",
       "      <td>0.082192</td>\n",
       "      <td>0.028347</td>\n",
       "      <td>0.571429</td>\n",
       "      <td>0.0</td>\n",
       "      <td>0.000000</td>\n",
       "      <td>0.0</td>\n",
       "      <td>0.397959</td>\n",
       "      <td>1.0</td>\n",
       "      <td>0.0</td>\n",
       "      <td>...</td>\n",
       "      <td>1.0</td>\n",
       "      <td>0.0</td>\n",
       "      <td>0.0</td>\n",
       "      <td>0.0</td>\n",
       "      <td>0.0</td>\n",
       "      <td>0.0</td>\n",
       "      <td>0.0</td>\n",
       "      <td>0.0</td>\n",
       "      <td>0.0</td>\n",
       "      <td>1.0</td>\n",
       "    </tr>\n",
       "    <tr>\n",
       "      <th>4</th>\n",
       "      <td>0.984797</td>\n",
       "      <td>0.438356</td>\n",
       "      <td>0.054299</td>\n",
       "      <td>0.785714</td>\n",
       "      <td>1.0</td>\n",
       "      <td>0.000000</td>\n",
       "      <td>0.0</td>\n",
       "      <td>0.428571</td>\n",
       "      <td>0.0</td>\n",
       "      <td>0.0</td>\n",
       "      <td>...</td>\n",
       "      <td>0.0</td>\n",
       "      <td>0.0</td>\n",
       "      <td>0.0</td>\n",
       "      <td>0.0</td>\n",
       "      <td>1.0</td>\n",
       "      <td>0.0</td>\n",
       "      <td>0.0</td>\n",
       "      <td>0.0</td>\n",
       "      <td>0.0</td>\n",
       "      <td>1.0</td>\n",
       "    </tr>\n",
       "  </tbody>\n",
       "</table>\n",
       "<p>5 rows × 46 columns</p>\n",
       "</div>"
      ],
      "text/plain": [
       "         ID       age    fnlwgt  education-num  sex  capital-gain  \\\n",
       "0  0.237661  0.150685  0.046747       0.571429  0.0      0.000000   \n",
       "1  0.929205  0.589041  0.265310       0.500000  0.0      0.105201   \n",
       "2  0.262262  0.068493  0.025387       0.571429  1.0      0.000000   \n",
       "3  0.585982  0.082192  0.028347       0.571429  0.0      0.000000   \n",
       "4  0.984797  0.438356  0.054299       0.785714  1.0      0.000000   \n",
       "\n",
       "   capital-loss  hours-per-week  workclass_Federal-gov  workclass_Local-gov  \\\n",
       "0           0.0        0.397959                    0.0                  0.0   \n",
       "1           0.0        0.397959                    1.0                  0.0   \n",
       "2           0.0        0.397959                    0.0                  0.0   \n",
       "3           0.0        0.397959                    1.0                  0.0   \n",
       "4           0.0        0.428571                    0.0                  0.0   \n",
       "\n",
       "   ...  relationship_Not-in-family  relationship_Other-relative  \\\n",
       "0  ...                         1.0                          0.0   \n",
       "1  ...                         1.0                          0.0   \n",
       "2  ...                         1.0                          0.0   \n",
       "3  ...                         1.0                          0.0   \n",
       "4  ...                         0.0                          0.0   \n",
       "\n",
       "   relationship_Own-child  relationship_Unmarried  relationship_Wife  \\\n",
       "0                     0.0                     0.0                0.0   \n",
       "1                     0.0                     0.0                0.0   \n",
       "2                     0.0                     0.0                0.0   \n",
       "3                     0.0                     0.0                0.0   \n",
       "4                     0.0                     0.0                1.0   \n",
       "\n",
       "   race_Amer-Indian-Eskimo  race_Asian-Pac-Islander  race_Black  race_Other  \\\n",
       "0                      0.0                      0.0         1.0         0.0   \n",
       "1                      0.0                      0.0         0.0         0.0   \n",
       "2                      0.0                      0.0         0.0         0.0   \n",
       "3                      0.0                      0.0         0.0         0.0   \n",
       "4                      0.0                      0.0         0.0         0.0   \n",
       "\n",
       "   race_White  \n",
       "0         0.0  \n",
       "1         1.0  \n",
       "2         1.0  \n",
       "3         1.0  \n",
       "4         1.0  \n",
       "\n",
       "[5 rows x 46 columns]"
      ]
     },
     "execution_count": 297,
     "metadata": {},
     "output_type": "execute_result"
    }
   ],
   "source": [
    "data_train.head()"
   ]
  },
  {
   "cell_type": "code",
   "execution_count": 299,
   "metadata": {},
   "outputs": [
    {
     "name": "stdout",
     "output_type": "stream",
     "text": [
      "(16485, 46)\n",
      "<class 'tuple'>\n"
     ]
    },
    {
     "data": {
      "text/plain": [
       "7738     0\n",
       "30254    1\n",
       "8539     0\n",
       "19079    0\n",
       "32064    0\n",
       "        ..\n",
       "9103     0\n",
       "21702    0\n",
       "16011    0\n",
       "29849    0\n",
       "26258    0\n",
       "Name: target, Length: 16485, dtype: int64"
      ]
     },
     "execution_count": 299,
     "metadata": {},
     "output_type": "execute_result"
    }
   ],
   "source": [
    "print(data_train.shape)\n",
    "print(type(trainn.shape))\n",
    "trainn"
   ]
  },
  {
   "cell_type": "code",
   "execution_count": 315,
   "metadata": {},
   "outputs": [
    {
     "data": {
      "text/plain": [
       "array([0.37574864, 0.1369863 , 0.1073371 , 0.5       , 1.        ,\n",
       "       0.        , 0.        , 0.41836735, 0.        , 0.        ,\n",
       "       1.        , 0.        , 0.        , 0.        , 1.        ,\n",
       "       0.        , 0.        , 0.        , 0.        , 0.        ,\n",
       "       1.        , 1.        , 0.        , 0.        , 0.        ,\n",
       "       0.        , 0.        , 0.        , 0.        , 0.        ,\n",
       "       0.        , 0.        , 0.        , 0.        , 0.        ,\n",
       "       0.        , 1.        , 0.        , 0.        , 0.        ,\n",
       "       0.        , 0.        , 0.        , 0.        , 0.        ,\n",
       "       1.        ])"
      ]
     },
     "execution_count": 315,
     "metadata": {},
     "output_type": "execute_result"
    }
   ],
   "source": [
    "# def __getitem__(x,y ,index):\n",
    "#     x, y = x[index], y[index]\n",
    "#     return x, y\n",
    "# x, y = __getitem__(data_train.values,trainn.values,1521)\n",
    "# x, y\n",
    "\n",
    "def __getitem__(x,index):\n",
    "    x = x[index]\n",
    "    return x\n",
    "__getitem__(data_val.values,0)"
   ]
  },
  {
   "cell_type": "code",
   "execution_count": 316,
   "metadata": {},
   "outputs": [
    {
     "name": "stdout",
     "output_type": "stream",
     "text": [
      "Device used : cpu\n",
      "No early stopping will be performed, last training weights will be used.\n",
      "epoch 0  | loss: 0.56263 |  0:00:00s\n",
      "epoch 1  | loss: 0.44226 |  0:00:01s\n",
      "epoch 2  | loss: 0.41832 |  0:00:01s\n",
      "epoch 3  | loss: 0.39038 |  0:00:02s\n",
      "epoch 4  | loss: 0.36874 |  0:00:03s\n",
      "epoch 5  | loss: 0.35905 |  0:00:03s\n",
      "epoch 6  | loss: 0.35481 |  0:00:04s\n",
      "epoch 7  | loss: 0.35192 |  0:00:05s\n",
      "epoch 8  | loss: 0.35075 |  0:00:05s\n",
      "epoch 9  | loss: 0.34611 |  0:00:06s\n",
      "epoch 10 | loss: 0.3437  |  0:00:07s\n",
      "epoch 11 | loss: 0.3399  |  0:00:07s\n",
      "epoch 12 | loss: 0.3408  |  0:00:08s\n",
      "epoch 13 | loss: 0.34188 |  0:00:09s\n",
      "epoch 14 | loss: 0.34105 |  0:00:09s\n",
      "epoch 15 | loss: 0.33285 |  0:00:10s\n",
      "epoch 16 | loss: 0.33229 |  0:00:10s\n",
      "epoch 17 | loss: 0.33683 |  0:00:11s\n",
      "epoch 18 | loss: 0.33341 |  0:00:12s\n",
      "epoch 19 | loss: 0.33803 |  0:00:12s\n",
      "epoch 20 | loss: 0.335   |  0:00:13s\n",
      "epoch 21 | loss: 0.3297  |  0:00:13s\n",
      "epoch 22 | loss: 0.33003 |  0:00:14s\n",
      "epoch 23 | loss: 0.32623 |  0:00:15s\n",
      "epoch 24 | loss: 0.32628 |  0:00:15s\n",
      "epoch 25 | loss: 0.32787 |  0:00:16s\n",
      "epoch 26 | loss: 0.32753 |  0:00:16s\n",
      "epoch 27 | loss: 0.32645 |  0:00:17s\n",
      "epoch 28 | loss: 0.32488 |  0:00:18s\n",
      "epoch 29 | loss: 0.32403 |  0:00:18s\n",
      "epoch 30 | loss: 0.32097 |  0:00:19s\n",
      "epoch 31 | loss: 0.3212  |  0:00:20s\n",
      "epoch 32 | loss: 0.32165 |  0:00:20s\n",
      "epoch 33 | loss: 0.32106 |  0:00:21s\n",
      "epoch 34 | loss: 0.31848 |  0:00:22s\n",
      "epoch 35 | loss: 0.31513 |  0:00:22s\n",
      "epoch 36 | loss: 0.31751 |  0:00:23s\n",
      "epoch 37 | loss: 0.31504 |  0:00:24s\n",
      "epoch 38 | loss: 0.31649 |  0:00:24s\n",
      "epoch 39 | loss: 0.31351 |  0:00:25s\n",
      "epoch 40 | loss: 0.31399 |  0:00:26s\n",
      "epoch 41 | loss: 0.31323 |  0:00:26s\n",
      "epoch 42 | loss: 0.31492 |  0:00:27s\n",
      "epoch 43 | loss: 0.31742 |  0:00:28s\n",
      "epoch 44 | loss: 0.31729 |  0:00:28s\n",
      "epoch 45 | loss: 0.31756 |  0:00:29s\n",
      "epoch 46 | loss: 0.31662 |  0:00:30s\n",
      "epoch 47 | loss: 0.31335 |  0:00:30s\n",
      "epoch 48 | loss: 0.31513 |  0:00:31s\n",
      "epoch 49 | loss: 0.31451 |  0:00:32s\n",
      "epoch 50 | loss: 0.32063 |  0:00:32s\n",
      "epoch 51 | loss: 0.31447 |  0:00:33s\n",
      "epoch 52 | loss: 0.31377 |  0:00:33s\n",
      "epoch 53 | loss: 0.31239 |  0:00:34s\n",
      "epoch 54 | loss: 0.31094 |  0:00:35s\n",
      "epoch 55 | loss: 0.3125  |  0:00:35s\n",
      "epoch 56 | loss: 0.30751 |  0:00:36s\n",
      "epoch 57 | loss: 0.31114 |  0:00:36s\n",
      "epoch 58 | loss: 0.31295 |  0:00:37s\n",
      "epoch 59 | loss: 0.3132  |  0:00:38s\n",
      "epoch 60 | loss: 0.31204 |  0:00:38s\n",
      "epoch 61 | loss: 0.30864 |  0:00:39s\n",
      "epoch 62 | loss: 0.30844 |  0:00:39s\n",
      "epoch 63 | loss: 0.30797 |  0:00:40s\n",
      "epoch 64 | loss: 0.30844 |  0:00:41s\n",
      "epoch 65 | loss: 0.30702 |  0:00:41s\n",
      "epoch 66 | loss: 0.31189 |  0:00:42s\n",
      "epoch 67 | loss: 0.307   |  0:00:42s\n",
      "epoch 68 | loss: 0.30751 |  0:00:43s\n",
      "epoch 69 | loss: 0.30458 |  0:00:44s\n",
      "epoch 70 | loss: 0.304   |  0:00:44s\n",
      "epoch 71 | loss: 0.30646 |  0:00:45s\n",
      "epoch 72 | loss: 0.30856 |  0:00:45s\n",
      "epoch 73 | loss: 0.30555 |  0:00:46s\n",
      "epoch 74 | loss: 0.30713 |  0:00:47s\n",
      "epoch 75 | loss: 0.30451 |  0:00:47s\n",
      "epoch 76 | loss: 0.30519 |  0:00:48s\n",
      "epoch 77 | loss: 0.30819 |  0:00:48s\n",
      "epoch 78 | loss: 0.30429 |  0:00:49s\n",
      "epoch 79 | loss: 0.30241 |  0:00:50s\n",
      "epoch 80 | loss: 0.30295 |  0:00:50s\n",
      "epoch 81 | loss: 0.30528 |  0:00:51s\n",
      "epoch 82 | loss: 0.30354 |  0:00:51s\n",
      "epoch 83 | loss: 0.30652 |  0:00:52s\n",
      "epoch 84 | loss: 0.30427 |  0:00:53s\n",
      "epoch 85 | loss: 0.30489 |  0:00:53s\n",
      "epoch 86 | loss: 0.30119 |  0:00:54s\n",
      "epoch 87 | loss: 0.30418 |  0:00:55s\n",
      "epoch 88 | loss: 0.30217 |  0:00:55s\n",
      "epoch 89 | loss: 0.29936 |  0:00:56s\n",
      "epoch 90 | loss: 0.30791 |  0:00:56s\n",
      "epoch 91 | loss: 0.30229 |  0:00:57s\n",
      "epoch 92 | loss: 0.29782 |  0:00:58s\n",
      "epoch 93 | loss: 0.29749 |  0:00:58s\n",
      "epoch 94 | loss: 0.30003 |  0:00:59s\n",
      "epoch 95 | loss: 0.29804 |  0:00:59s\n",
      "epoch 96 | loss: 0.30063 |  0:01:00s\n",
      "epoch 97 | loss: 0.29914 |  0:01:01s\n",
      "epoch 98 | loss: 0.30206 |  0:01:01s\n",
      "epoch 99 | loss: 0.29849 |  0:01:02s\n",
      "epoch 0  | loss: 0.30307 | val_0_auc: 0.89943 |  0:00:00s\n",
      "epoch 1  | loss: 0.30212 | val_0_auc: 0.89982 |  0:00:01s\n",
      "epoch 2  | loss: 0.30249 | val_0_auc: 0.89854 |  0:00:02s\n",
      "epoch 3  | loss: 0.30312 | val_0_auc: 0.89912 |  0:00:02s\n",
      "epoch 4  | loss: 0.29844 | val_0_auc: 0.89919 |  0:00:03s\n",
      "epoch 5  | loss: 0.30314 | val_0_auc: 0.89733 |  0:00:04s\n",
      "epoch 6  | loss: 0.30079 | val_0_auc: 0.89606 |  0:00:04s\n",
      "epoch 7  | loss: 0.3007  | val_0_auc: 0.89936 |  0:00:05s\n",
      "epoch 8  | loss: 0.29805 | val_0_auc: 0.89723 |  0:00:06s\n",
      "epoch 9  | loss: 0.29891 | val_0_auc: 0.90033 |  0:00:06s\n",
      "epoch 10 | loss: 0.29469 | val_0_auc: 0.89965 |  0:00:07s\n",
      "epoch 11 | loss: 0.29259 | val_0_auc: 0.90267 |  0:00:08s\n",
      "epoch 12 | loss: 0.29486 | val_0_auc: 0.90049 |  0:00:08s\n",
      "epoch 13 | loss: 0.29579 | val_0_auc: 0.89844 |  0:00:09s\n",
      "epoch 14 | loss: 0.29323 | val_0_auc: 0.90232 |  0:00:10s\n",
      "epoch 15 | loss: 0.29581 | val_0_auc: 0.8968  |  0:00:11s\n",
      "epoch 16 | loss: 0.29606 | val_0_auc: 0.89906 |  0:00:11s\n",
      "epoch 17 | loss: 0.29564 | val_0_auc: 0.89964 |  0:00:12s\n",
      "epoch 18 | loss: 0.29142 | val_0_auc: 0.89932 |  0:00:13s\n",
      "epoch 19 | loss: 0.29702 | val_0_auc: 0.89854 |  0:00:13s\n",
      "epoch 20 | loss: 0.29679 | val_0_auc: 0.90143 |  0:00:14s\n",
      "epoch 21 | loss: 0.28983 | val_0_auc: 0.89989 |  0:00:15s\n",
      "\n",
      "Early stopping occurred at epoch 21 with best_epoch = 11 and best_val_0_auc = 0.90267\n",
      "Best weights from best epoch are automatically used!\n",
      "0.7494028147730053\n"
     ]
    }
   ],
   "source": [
    "clf = TabNetClassifier()  #TabNetRegressor()\n",
    "clf.fit(data_train.values, trainn.values)\n",
    "\n",
    "clf.fit(\n",
    "  data_train.values, trainn.values,\n",
    "  eval_set=[(data_val.values, vall.values)]\n",
    ")\n",
    "preds = clf.predict(data_test.values)\n",
    "\n",
    "print(roc_auc_score(testt,preds))"
   ]
  },
  {
   "cell_type": "code",
   "execution_count": 323,
   "metadata": {},
   "outputs": [
    {
     "data": {
      "text/plain": [
       "0.8974167329336922"
      ]
     },
     "execution_count": 323,
     "metadata": {},
     "output_type": "execute_result"
    }
   ],
   "source": [
    "preds = clf.predict_proba(data_test.values)\n",
    "test_auc = roc_auc_score(y_score=preds[:,1], y_true=testt)\n",
    "test_auc"
   ]
  },
  {
   "cell_type": "code",
   "execution_count": 327,
   "metadata": {},
   "outputs": [],
   "source": [
    "explain_matrix, masks = clf.explain(data_val.values)"
   ]
  },
  {
   "cell_type": "code",
   "execution_count": 387,
   "metadata": {},
   "outputs": [],
   "source": [
    "d = {'col1':list(data_test.columns) , 'tabnet':list(clf.feature_importances_),'catboost':list(cat_df['feature_importance'])}\n",
    "df = pd.DataFrame(data=d)\n",
    "df=df.sort_values(by='tabnet')"
   ]
  },
  {
   "cell_type": "code",
   "execution_count": 388,
   "metadata": {},
   "outputs": [
    {
     "data": {
      "text/html": [
       "<div>\n",
       "<style scoped>\n",
       "    .dataframe tbody tr th:only-of-type {\n",
       "        vertical-align: middle;\n",
       "    }\n",
       "\n",
       "    .dataframe tbody tr th {\n",
       "        vertical-align: top;\n",
       "    }\n",
       "\n",
       "    .dataframe thead th {\n",
       "        text-align: right;\n",
       "    }\n",
       "</style>\n",
       "<table border=\"1\" class=\"dataframe\">\n",
       "  <thead>\n",
       "    <tr style=\"text-align: right;\">\n",
       "      <th></th>\n",
       "      <th>col1</th>\n",
       "      <th>tabnet</th>\n",
       "      <th>catboost</th>\n",
       "    </tr>\n",
       "  </thead>\n",
       "  <tbody>\n",
       "    <tr>\n",
       "      <th>45</th>\n",
       "      <td>race_White</td>\n",
       "      <td>0.000000e+00</td>\n",
       "      <td>27.951854</td>\n",
       "    </tr>\n",
       "    <tr>\n",
       "      <th>17</th>\n",
       "      <td>education_high-school</td>\n",
       "      <td>0.000000e+00</td>\n",
       "      <td>0.190825</td>\n",
       "    </tr>\n",
       "    <tr>\n",
       "      <th>16</th>\n",
       "      <td>education_elementary-school</td>\n",
       "      <td>0.000000e+00</td>\n",
       "      <td>0.187516</td>\n",
       "    </tr>\n",
       "    <tr>\n",
       "      <th>29</th>\n",
       "      <td>occupation_Priv-house-serv</td>\n",
       "      <td>0.000000e+00</td>\n",
       "      <td>0.603269</td>\n",
       "    </tr>\n",
       "    <tr>\n",
       "      <th>14</th>\n",
       "      <td>education_HS-grad</td>\n",
       "      <td>0.000000e+00</td>\n",
       "      <td>0.136278</td>\n",
       "    </tr>\n",
       "    <tr>\n",
       "      <th>30</th>\n",
       "      <td>occupation_Prof-specialty</td>\n",
       "      <td>0.000000e+00</td>\n",
       "      <td>0.728364</td>\n",
       "    </tr>\n",
       "    <tr>\n",
       "      <th>31</th>\n",
       "      <td>occupation_Protective-serv</td>\n",
       "      <td>0.000000e+00</td>\n",
       "      <td>0.741641</td>\n",
       "    </tr>\n",
       "    <tr>\n",
       "      <th>11</th>\n",
       "      <td>workclass_Self-emp-inc</td>\n",
       "      <td>0.000000e+00</td>\n",
       "      <td>0.024832</td>\n",
       "    </tr>\n",
       "    <tr>\n",
       "      <th>32</th>\n",
       "      <td>occupation_Sales</td>\n",
       "      <td>0.000000e+00</td>\n",
       "      <td>0.921671</td>\n",
       "    </tr>\n",
       "    <tr>\n",
       "      <th>9</th>\n",
       "      <td>workclass_Local-gov</td>\n",
       "      <td>0.000000e+00</td>\n",
       "      <td>0.000000</td>\n",
       "    </tr>\n",
       "    <tr>\n",
       "      <th>8</th>\n",
       "      <td>workclass_Federal-gov</td>\n",
       "      <td>0.000000e+00</td>\n",
       "      <td>0.000000</td>\n",
       "    </tr>\n",
       "    <tr>\n",
       "      <th>33</th>\n",
       "      <td>occupation_Tech-support</td>\n",
       "      <td>0.000000e+00</td>\n",
       "      <td>1.212899</td>\n",
       "    </tr>\n",
       "    <tr>\n",
       "      <th>34</th>\n",
       "      <td>occupation_Transport-moving</td>\n",
       "      <td>0.000000e+00</td>\n",
       "      <td>1.345494</td>\n",
       "    </tr>\n",
       "    <tr>\n",
       "      <th>35</th>\n",
       "      <td>relationship_Husband</td>\n",
       "      <td>0.000000e+00</td>\n",
       "      <td>1.477779</td>\n",
       "    </tr>\n",
       "    <tr>\n",
       "      <th>36</th>\n",
       "      <td>relationship_Not-in-family</td>\n",
       "      <td>0.000000e+00</td>\n",
       "      <td>1.680123</td>\n",
       "    </tr>\n",
       "    <tr>\n",
       "      <th>39</th>\n",
       "      <td>relationship_Unmarried</td>\n",
       "      <td>0.000000e+00</td>\n",
       "      <td>3.090854</td>\n",
       "    </tr>\n",
       "    <tr>\n",
       "      <th>2</th>\n",
       "      <td>fnlwgt</td>\n",
       "      <td>0.000000e+00</td>\n",
       "      <td>0.000000</td>\n",
       "    </tr>\n",
       "    <tr>\n",
       "      <th>41</th>\n",
       "      <td>race_Amer-Indian-Eskimo</td>\n",
       "      <td>0.000000e+00</td>\n",
       "      <td>7.918197</td>\n",
       "    </tr>\n",
       "    <tr>\n",
       "      <th>18</th>\n",
       "      <td>education_middle-school</td>\n",
       "      <td>0.000000e+00</td>\n",
       "      <td>0.211147</td>\n",
       "    </tr>\n",
       "    <tr>\n",
       "      <th>28</th>\n",
       "      <td>occupation_Other-service</td>\n",
       "      <td>0.000000e+00</td>\n",
       "      <td>0.597423</td>\n",
       "    </tr>\n",
       "    <tr>\n",
       "      <th>22</th>\n",
       "      <td>occupation_Armed-Forces</td>\n",
       "      <td>2.702640e-07</td>\n",
       "      <td>0.260215</td>\n",
       "    </tr>\n",
       "    <tr>\n",
       "      <th>37</th>\n",
       "      <td>relationship_Other-relative</td>\n",
       "      <td>1.023698e-05</td>\n",
       "      <td>1.724059</td>\n",
       "    </tr>\n",
       "    <tr>\n",
       "      <th>23</th>\n",
       "      <td>occupation_Craft-repair</td>\n",
       "      <td>1.685437e-05</td>\n",
       "      <td>0.301326</td>\n",
       "    </tr>\n",
       "    <tr>\n",
       "      <th>6</th>\n",
       "      <td>capital-loss</td>\n",
       "      <td>2.061877e-05</td>\n",
       "      <td>0.000000</td>\n",
       "    </tr>\n",
       "    <tr>\n",
       "      <th>43</th>\n",
       "      <td>race_Black</td>\n",
       "      <td>1.941589e-03</td>\n",
       "      <td>12.200842</td>\n",
       "    </tr>\n",
       "    <tr>\n",
       "      <th>10</th>\n",
       "      <td>workclass_Private</td>\n",
       "      <td>2.309954e-03</td>\n",
       "      <td>0.000000</td>\n",
       "    </tr>\n",
       "    <tr>\n",
       "      <th>13</th>\n",
       "      <td>workclass_State-gov</td>\n",
       "      <td>2.544433e-03</td>\n",
       "      <td>0.122684</td>\n",
       "    </tr>\n",
       "    <tr>\n",
       "      <th>15</th>\n",
       "      <td>education_academic</td>\n",
       "      <td>2.583128e-03</td>\n",
       "      <td>0.166871</td>\n",
       "    </tr>\n",
       "    <tr>\n",
       "      <th>25</th>\n",
       "      <td>occupation_Farming-fishing</td>\n",
       "      <td>2.673979e-03</td>\n",
       "      <td>0.384322</td>\n",
       "    </tr>\n",
       "    <tr>\n",
       "      <th>44</th>\n",
       "      <td>race_Other</td>\n",
       "      <td>3.113271e-03</td>\n",
       "      <td>19.169754</td>\n",
       "    </tr>\n",
       "    <tr>\n",
       "      <th>12</th>\n",
       "      <td>workclass_Self-emp-not-inc</td>\n",
       "      <td>3.391271e-03</td>\n",
       "      <td>0.091916</td>\n",
       "    </tr>\n",
       "    <tr>\n",
       "      <th>0</th>\n",
       "      <td>ID</td>\n",
       "      <td>5.766836e-03</td>\n",
       "      <td>0.000000</td>\n",
       "    </tr>\n",
       "    <tr>\n",
       "      <th>27</th>\n",
       "      <td>occupation_Machine-op-inspct</td>\n",
       "      <td>6.040389e-03</td>\n",
       "      <td>0.506163</td>\n",
       "    </tr>\n",
       "    <tr>\n",
       "      <th>24</th>\n",
       "      <td>occupation_Exec-managerial</td>\n",
       "      <td>7.113510e-03</td>\n",
       "      <td>0.355122</td>\n",
       "    </tr>\n",
       "    <tr>\n",
       "      <th>40</th>\n",
       "      <td>relationship_Wife</td>\n",
       "      <td>1.295439e-02</td>\n",
       "      <td>3.314355</td>\n",
       "    </tr>\n",
       "    <tr>\n",
       "      <th>4</th>\n",
       "      <td>sex</td>\n",
       "      <td>1.649774e-02</td>\n",
       "      <td>0.000000</td>\n",
       "    </tr>\n",
       "    <tr>\n",
       "      <th>19</th>\n",
       "      <td>marital-status_married</td>\n",
       "      <td>1.666512e-02</td>\n",
       "      <td>0.214002</td>\n",
       "    </tr>\n",
       "    <tr>\n",
       "      <th>26</th>\n",
       "      <td>occupation_Handlers-cleaners</td>\n",
       "      <td>1.868844e-02</td>\n",
       "      <td>0.471509</td>\n",
       "    </tr>\n",
       "    <tr>\n",
       "      <th>42</th>\n",
       "      <td>race_Asian-Pac-Islander</td>\n",
       "      <td>2.662773e-02</td>\n",
       "      <td>9.437495</td>\n",
       "    </tr>\n",
       "    <tr>\n",
       "      <th>38</th>\n",
       "      <td>relationship_Own-child</td>\n",
       "      <td>3.624370e-02</td>\n",
       "      <td>1.787744</td>\n",
       "    </tr>\n",
       "    <tr>\n",
       "      <th>20</th>\n",
       "      <td>marital-status_single</td>\n",
       "      <td>6.643594e-02</td>\n",
       "      <td>0.229558</td>\n",
       "    </tr>\n",
       "    <tr>\n",
       "      <th>21</th>\n",
       "      <td>occupation_Adm-clerical</td>\n",
       "      <td>7.123494e-02</td>\n",
       "      <td>0.241897</td>\n",
       "    </tr>\n",
       "    <tr>\n",
       "      <th>3</th>\n",
       "      <td>education-num</td>\n",
       "      <td>1.255882e-01</td>\n",
       "      <td>0.000000</td>\n",
       "    </tr>\n",
       "    <tr>\n",
       "      <th>1</th>\n",
       "      <td>age</td>\n",
       "      <td>1.498266e-01</td>\n",
       "      <td>0.000000</td>\n",
       "    </tr>\n",
       "    <tr>\n",
       "      <th>5</th>\n",
       "      <td>capital-gain</td>\n",
       "      <td>1.707817e-01</td>\n",
       "      <td>0.000000</td>\n",
       "    </tr>\n",
       "    <tr>\n",
       "      <th>7</th>\n",
       "      <td>hours-per-week</td>\n",
       "      <td>2.509291e-01</td>\n",
       "      <td>0.000000</td>\n",
       "    </tr>\n",
       "  </tbody>\n",
       "</table>\n",
       "</div>"
      ],
      "text/plain": [
       "                            col1        tabnet   catboost\n",
       "45                    race_White  0.000000e+00  27.951854\n",
       "17         education_high-school  0.000000e+00   0.190825\n",
       "16   education_elementary-school  0.000000e+00   0.187516\n",
       "29    occupation_Priv-house-serv  0.000000e+00   0.603269\n",
       "14             education_HS-grad  0.000000e+00   0.136278\n",
       "30     occupation_Prof-specialty  0.000000e+00   0.728364\n",
       "31    occupation_Protective-serv  0.000000e+00   0.741641\n",
       "11        workclass_Self-emp-inc  0.000000e+00   0.024832\n",
       "32              occupation_Sales  0.000000e+00   0.921671\n",
       "9            workclass_Local-gov  0.000000e+00   0.000000\n",
       "8          workclass_Federal-gov  0.000000e+00   0.000000\n",
       "33       occupation_Tech-support  0.000000e+00   1.212899\n",
       "34   occupation_Transport-moving  0.000000e+00   1.345494\n",
       "35          relationship_Husband  0.000000e+00   1.477779\n",
       "36    relationship_Not-in-family  0.000000e+00   1.680123\n",
       "39        relationship_Unmarried  0.000000e+00   3.090854\n",
       "2                         fnlwgt  0.000000e+00   0.000000\n",
       "41       race_Amer-Indian-Eskimo  0.000000e+00   7.918197\n",
       "18       education_middle-school  0.000000e+00   0.211147\n",
       "28      occupation_Other-service  0.000000e+00   0.597423\n",
       "22       occupation_Armed-Forces  2.702640e-07   0.260215\n",
       "37   relationship_Other-relative  1.023698e-05   1.724059\n",
       "23       occupation_Craft-repair  1.685437e-05   0.301326\n",
       "6                   capital-loss  2.061877e-05   0.000000\n",
       "43                    race_Black  1.941589e-03  12.200842\n",
       "10             workclass_Private  2.309954e-03   0.000000\n",
       "13           workclass_State-gov  2.544433e-03   0.122684\n",
       "15            education_academic  2.583128e-03   0.166871\n",
       "25    occupation_Farming-fishing  2.673979e-03   0.384322\n",
       "44                    race_Other  3.113271e-03  19.169754\n",
       "12    workclass_Self-emp-not-inc  3.391271e-03   0.091916\n",
       "0                             ID  5.766836e-03   0.000000\n",
       "27  occupation_Machine-op-inspct  6.040389e-03   0.506163\n",
       "24    occupation_Exec-managerial  7.113510e-03   0.355122\n",
       "40             relationship_Wife  1.295439e-02   3.314355\n",
       "4                            sex  1.649774e-02   0.000000\n",
       "19        marital-status_married  1.666512e-02   0.214002\n",
       "26  occupation_Handlers-cleaners  1.868844e-02   0.471509\n",
       "42       race_Asian-Pac-Islander  2.662773e-02   9.437495\n",
       "38        relationship_Own-child  3.624370e-02   1.787744\n",
       "20         marital-status_single  6.643594e-02   0.229558\n",
       "21       occupation_Adm-clerical  7.123494e-02   0.241897\n",
       "3                  education-num  1.255882e-01   0.000000\n",
       "1                            age  1.498266e-01   0.000000\n",
       "5                   capital-gain  1.707817e-01   0.000000\n",
       "7                 hours-per-week  2.509291e-01   0.000000"
      ]
     },
     "execution_count": 388,
     "metadata": {},
     "output_type": "execute_result"
    }
   ],
   "source": [
    "df"
   ]
  },
  {
   "cell_type": "code",
   "execution_count": 389,
   "metadata": {},
   "outputs": [
    {
     "ename": "KeyError",
     "evalue": "'col2'",
     "output_type": "error",
     "traceback": [
      "\u001b[0;31m---------------------------------------------------------------------------\u001b[0m",
      "\u001b[0;31mKeyError\u001b[0m                                  Traceback (most recent call last)",
      "\u001b[0;32m~/miniconda3/envs/main/lib/python3.8/site-packages/pandas/core/indexes/base.py\u001b[0m in \u001b[0;36mget_loc\u001b[0;34m(self, key, method, tolerance)\u001b[0m\n\u001b[1;32m   3360\u001b[0m             \u001b[0;32mtry\u001b[0m\u001b[0;34m:\u001b[0m\u001b[0;34m\u001b[0m\u001b[0;34m\u001b[0m\u001b[0m\n\u001b[0;32m-> 3361\u001b[0;31m                 \u001b[0;32mreturn\u001b[0m \u001b[0mself\u001b[0m\u001b[0;34m.\u001b[0m\u001b[0m_engine\u001b[0m\u001b[0;34m.\u001b[0m\u001b[0mget_loc\u001b[0m\u001b[0;34m(\u001b[0m\u001b[0mcasted_key\u001b[0m\u001b[0;34m)\u001b[0m\u001b[0;34m\u001b[0m\u001b[0;34m\u001b[0m\u001b[0m\n\u001b[0m\u001b[1;32m   3362\u001b[0m             \u001b[0;32mexcept\u001b[0m \u001b[0mKeyError\u001b[0m \u001b[0;32mas\u001b[0m \u001b[0merr\u001b[0m\u001b[0;34m:\u001b[0m\u001b[0;34m\u001b[0m\u001b[0;34m\u001b[0m\u001b[0m\n",
      "\u001b[0;32m~/miniconda3/envs/main/lib/python3.8/site-packages/pandas/_libs/index.pyx\u001b[0m in \u001b[0;36mpandas._libs.index.IndexEngine.get_loc\u001b[0;34m()\u001b[0m\n",
      "\u001b[0;32m~/miniconda3/envs/main/lib/python3.8/site-packages/pandas/_libs/index.pyx\u001b[0m in \u001b[0;36mpandas._libs.index.IndexEngine.get_loc\u001b[0;34m()\u001b[0m\n",
      "\u001b[0;32mpandas/_libs/hashtable_class_helper.pxi\u001b[0m in \u001b[0;36mpandas._libs.hashtable.PyObjectHashTable.get_item\u001b[0;34m()\u001b[0m\n",
      "\u001b[0;32mpandas/_libs/hashtable_class_helper.pxi\u001b[0m in \u001b[0;36mpandas._libs.hashtable.PyObjectHashTable.get_item\u001b[0;34m()\u001b[0m\n",
      "\u001b[0;31mKeyError\u001b[0m: 'col2'",
      "\nThe above exception was the direct cause of the following exception:\n",
      "\u001b[0;31mKeyError\u001b[0m                                  Traceback (most recent call last)",
      "\u001b[0;32m/tmp/ipykernel_236/1026393286.py\u001b[0m in \u001b[0;36m<module>\u001b[0;34m\u001b[0m\n\u001b[1;32m      1\u001b[0m \u001b[0mplt\u001b[0m\u001b[0;34m.\u001b[0m\u001b[0mfigure\u001b[0m\u001b[0;34m(\u001b[0m\u001b[0mfigsize\u001b[0m\u001b[0;34m=\u001b[0m\u001b[0;34m(\u001b[0m\u001b[0;36m15\u001b[0m\u001b[0;34m,\u001b[0m\u001b[0;36m15\u001b[0m\u001b[0;34m)\u001b[0m\u001b[0;34m)\u001b[0m\u001b[0;34m\u001b[0m\u001b[0;34m\u001b[0m\u001b[0m\n\u001b[0;32m----> 2\u001b[0;31m \u001b[0mplt\u001b[0m\u001b[0;34m.\u001b[0m\u001b[0mbarh\u001b[0m\u001b[0;34m(\u001b[0m\u001b[0mdf\u001b[0m\u001b[0;34m[\u001b[0m\u001b[0;34m'col1'\u001b[0m\u001b[0;34m]\u001b[0m\u001b[0;34m,\u001b[0m\u001b[0mdf\u001b[0m\u001b[0;34m[\u001b[0m\u001b[0;34m'col2'\u001b[0m\u001b[0;34m]\u001b[0m\u001b[0;34m)\u001b[0m\u001b[0;34m\u001b[0m\u001b[0;34m\u001b[0m\u001b[0m\n\u001b[0m\u001b[1;32m      3\u001b[0m \u001b[0mplt\u001b[0m\u001b[0;34m.\u001b[0m\u001b[0mbarh\u001b[0m\u001b[0;34m(\u001b[0m\u001b[0mcat_df\u001b[0m\u001b[0;34m[\u001b[0m\u001b[0;34m'feature_names'\u001b[0m\u001b[0;34m]\u001b[0m\u001b[0;34m,\u001b[0m\u001b[0mcat_df\u001b[0m\u001b[0;34m[\u001b[0m\u001b[0;34m'feature_importance'\u001b[0m\u001b[0;34m]\u001b[0m\u001b[0;34m)\u001b[0m\u001b[0;34m\u001b[0m\u001b[0;34m\u001b[0m\u001b[0m\n\u001b[1;32m      4\u001b[0m \u001b[0mplt\u001b[0m\u001b[0;34m.\u001b[0m\u001b[0mlegend\u001b[0m\u001b[0;34m(\u001b[0m\u001b[0;34m[\u001b[0m\u001b[0;34m'df'\u001b[0m\u001b[0;34m,\u001b[0m\u001b[0;34m'cat'\u001b[0m\u001b[0;34m]\u001b[0m\u001b[0;34m)\u001b[0m\u001b[0;34m\u001b[0m\u001b[0;34m\u001b[0m\u001b[0m\n\u001b[1;32m      5\u001b[0m \u001b[0;31m#plt.yticks(range(len(clf.feature_importances_)),clf.feature_importances_)\u001b[0m\u001b[0;34m\u001b[0m\u001b[0;34m\u001b[0m\u001b[0;34m\u001b[0m\u001b[0m\n",
      "\u001b[0;32m~/miniconda3/envs/main/lib/python3.8/site-packages/pandas/core/frame.py\u001b[0m in \u001b[0;36m__getitem__\u001b[0;34m(self, key)\u001b[0m\n\u001b[1;32m   3456\u001b[0m             \u001b[0;32mif\u001b[0m \u001b[0mself\u001b[0m\u001b[0;34m.\u001b[0m\u001b[0mcolumns\u001b[0m\u001b[0;34m.\u001b[0m\u001b[0mnlevels\u001b[0m \u001b[0;34m>\u001b[0m \u001b[0;36m1\u001b[0m\u001b[0;34m:\u001b[0m\u001b[0;34m\u001b[0m\u001b[0;34m\u001b[0m\u001b[0m\n\u001b[1;32m   3457\u001b[0m                 \u001b[0;32mreturn\u001b[0m \u001b[0mself\u001b[0m\u001b[0;34m.\u001b[0m\u001b[0m_getitem_multilevel\u001b[0m\u001b[0;34m(\u001b[0m\u001b[0mkey\u001b[0m\u001b[0;34m)\u001b[0m\u001b[0;34m\u001b[0m\u001b[0;34m\u001b[0m\u001b[0m\n\u001b[0;32m-> 3458\u001b[0;31m             \u001b[0mindexer\u001b[0m \u001b[0;34m=\u001b[0m \u001b[0mself\u001b[0m\u001b[0;34m.\u001b[0m\u001b[0mcolumns\u001b[0m\u001b[0;34m.\u001b[0m\u001b[0mget_loc\u001b[0m\u001b[0;34m(\u001b[0m\u001b[0mkey\u001b[0m\u001b[0;34m)\u001b[0m\u001b[0;34m\u001b[0m\u001b[0;34m\u001b[0m\u001b[0m\n\u001b[0m\u001b[1;32m   3459\u001b[0m             \u001b[0;32mif\u001b[0m \u001b[0mis_integer\u001b[0m\u001b[0;34m(\u001b[0m\u001b[0mindexer\u001b[0m\u001b[0;34m)\u001b[0m\u001b[0;34m:\u001b[0m\u001b[0;34m\u001b[0m\u001b[0;34m\u001b[0m\u001b[0m\n\u001b[1;32m   3460\u001b[0m                 \u001b[0mindexer\u001b[0m \u001b[0;34m=\u001b[0m \u001b[0;34m[\u001b[0m\u001b[0mindexer\u001b[0m\u001b[0;34m]\u001b[0m\u001b[0;34m\u001b[0m\u001b[0;34m\u001b[0m\u001b[0m\n",
      "\u001b[0;32m~/miniconda3/envs/main/lib/python3.8/site-packages/pandas/core/indexes/base.py\u001b[0m in \u001b[0;36mget_loc\u001b[0;34m(self, key, method, tolerance)\u001b[0m\n\u001b[1;32m   3361\u001b[0m                 \u001b[0;32mreturn\u001b[0m \u001b[0mself\u001b[0m\u001b[0;34m.\u001b[0m\u001b[0m_engine\u001b[0m\u001b[0;34m.\u001b[0m\u001b[0mget_loc\u001b[0m\u001b[0;34m(\u001b[0m\u001b[0mcasted_key\u001b[0m\u001b[0;34m)\u001b[0m\u001b[0;34m\u001b[0m\u001b[0;34m\u001b[0m\u001b[0m\n\u001b[1;32m   3362\u001b[0m             \u001b[0;32mexcept\u001b[0m \u001b[0mKeyError\u001b[0m \u001b[0;32mas\u001b[0m \u001b[0merr\u001b[0m\u001b[0;34m:\u001b[0m\u001b[0;34m\u001b[0m\u001b[0;34m\u001b[0m\u001b[0m\n\u001b[0;32m-> 3363\u001b[0;31m                 \u001b[0;32mraise\u001b[0m \u001b[0mKeyError\u001b[0m\u001b[0;34m(\u001b[0m\u001b[0mkey\u001b[0m\u001b[0;34m)\u001b[0m \u001b[0;32mfrom\u001b[0m \u001b[0merr\u001b[0m\u001b[0;34m\u001b[0m\u001b[0;34m\u001b[0m\u001b[0m\n\u001b[0m\u001b[1;32m   3364\u001b[0m \u001b[0;34m\u001b[0m\u001b[0m\n\u001b[1;32m   3365\u001b[0m         \u001b[0;32mif\u001b[0m \u001b[0mis_scalar\u001b[0m\u001b[0;34m(\u001b[0m\u001b[0mkey\u001b[0m\u001b[0;34m)\u001b[0m \u001b[0;32mand\u001b[0m \u001b[0misna\u001b[0m\u001b[0;34m(\u001b[0m\u001b[0mkey\u001b[0m\u001b[0;34m)\u001b[0m \u001b[0;32mand\u001b[0m \u001b[0;32mnot\u001b[0m \u001b[0mself\u001b[0m\u001b[0;34m.\u001b[0m\u001b[0mhasnans\u001b[0m\u001b[0;34m:\u001b[0m\u001b[0;34m\u001b[0m\u001b[0;34m\u001b[0m\u001b[0m\n",
      "\u001b[0;31mKeyError\u001b[0m: 'col2'"
     ]
    },
    {
     "data": {
      "text/plain": [
       "<Figure size 1080x1080 with 0 Axes>"
      ]
     },
     "metadata": {},
     "output_type": "display_data"
    }
   ],
   "source": [
    "plt.figure(figsize=(15,15))\n",
    "plt.barh(df['col1'],df['col2'])\n",
    "plt.barh(cat_df['feature_names'],cat_df['feature_importance'])\n",
    "plt.legend(['df','cat'])\n",
    "#plt.yticks(range(len(clf.feature_importances_)),clf.feature_importances_)"
   ]
  },
  {
   "cell_type": "code",
   "execution_count": 331,
   "metadata": {},
   "outputs": [
    {
     "data": {
      "image/png": "[encoded data removed]",
      "text/plain": [
       "<Figure size 1440x1440 with 3 Axes>"
      ]
     },
     "metadata": {},
     "output_type": "display_data"
    }
   ],
   "source": [
    "fig, axs = plt.subplots(1, 3, figsize=(20,20))\n",
    "\n",
    "for i in range(3):\n",
    "    axs[i].imshow(masks[i][:100])\n",
    "    axs[i].set_title(f\"mask {i}\")"
   ]
  },
  {
   "cell_type": "code",
   "execution_count": 106,
   "metadata": {},
   "outputs": [
    {
     "data": {
      "text/html": [
       "<div>\n",
       "<style scoped>\n",
       "    .dataframe tbody tr th:only-of-type {\n",
       "        vertical-align: middle;\n",
       "    }\n",
       "\n",
       "    .dataframe tbody tr th {\n",
       "        vertical-align: top;\n",
       "    }\n",
       "\n",
       "    .dataframe thead th {\n",
       "        text-align: right;\n",
       "    }\n",
       "</style>\n",
       "<table border=\"1\" class=\"dataframe\">\n",
       "  <thead>\n",
       "    <tr style=\"text-align: right;\">\n",
       "      <th></th>\n",
       "      <th>ID</th>\n",
       "      <th>age</th>\n",
       "      <th>fnlwgt</th>\n",
       "      <th>education-num</th>\n",
       "      <th>sex</th>\n",
       "      <th>capital-gain</th>\n",
       "      <th>capital-loss</th>\n",
       "      <th>hours-per-week</th>\n",
       "      <th>workclass_Federal-gov</th>\n",
       "      <th>workclass_Local-gov</th>\n",
       "      <th>...</th>\n",
       "      <th>relationship_Not-in-family</th>\n",
       "      <th>relationship_Other-relative</th>\n",
       "      <th>relationship_Own-child</th>\n",
       "      <th>relationship_Unmarried</th>\n",
       "      <th>relationship_Wife</th>\n",
       "      <th>race_Amer-Indian-Eskimo</th>\n",
       "      <th>race_Asian-Pac-Islander</th>\n",
       "      <th>race_Black</th>\n",
       "      <th>race_Other</th>\n",
       "      <th>race_White</th>\n",
       "    </tr>\n",
       "  </thead>\n",
       "  <tbody>\n",
       "    <tr>\n",
       "      <th>0</th>\n",
       "      <td>0.134801</td>\n",
       "      <td>0.205479</td>\n",
       "      <td>0.022461</td>\n",
       "      <td>0.500000</td>\n",
       "      <td>0.0</td>\n",
       "      <td>1.0</td>\n",
       "      <td>0.000000</td>\n",
       "      <td>0.397959</td>\n",
       "      <td>0.0</td>\n",
       "      <td>0.0</td>\n",
       "      <td>...</td>\n",
       "      <td>0.0</td>\n",
       "      <td>0.0</td>\n",
       "      <td>0.0</td>\n",
       "      <td>0.0</td>\n",
       "      <td>0.0</td>\n",
       "      <td>0.0</td>\n",
       "      <td>0.0</td>\n",
       "      <td>0.0</td>\n",
       "      <td>0.0</td>\n",
       "      <td>1.0</td>\n",
       "    </tr>\n",
       "    <tr>\n",
       "      <th>1</th>\n",
       "      <td>0.783378</td>\n",
       "      <td>0.013699</td>\n",
       "      <td>0.050902</td>\n",
       "      <td>0.571429</td>\n",
       "      <td>0.0</td>\n",
       "      <td>0.0</td>\n",
       "      <td>0.000000</td>\n",
       "      <td>0.142857</td>\n",
       "      <td>0.0</td>\n",
       "      <td>0.0</td>\n",
       "      <td>...</td>\n",
       "      <td>0.0</td>\n",
       "      <td>0.0</td>\n",
       "      <td>1.0</td>\n",
       "      <td>0.0</td>\n",
       "      <td>0.0</td>\n",
       "      <td>0.0</td>\n",
       "      <td>0.0</td>\n",
       "      <td>0.0</td>\n",
       "      <td>0.0</td>\n",
       "      <td>1.0</td>\n",
       "    </tr>\n",
       "    <tr>\n",
       "      <th>2</th>\n",
       "      <td>0.090267</td>\n",
       "      <td>0.273973</td>\n",
       "      <td>0.015786</td>\n",
       "      <td>0.571429</td>\n",
       "      <td>0.0</td>\n",
       "      <td>0.0</td>\n",
       "      <td>0.000000</td>\n",
       "      <td>0.397959</td>\n",
       "      <td>0.0</td>\n",
       "      <td>0.0</td>\n",
       "      <td>...</td>\n",
       "      <td>0.0</td>\n",
       "      <td>0.0</td>\n",
       "      <td>0.0</td>\n",
       "      <td>0.0</td>\n",
       "      <td>0.0</td>\n",
       "      <td>0.0</td>\n",
       "      <td>0.0</td>\n",
       "      <td>0.0</td>\n",
       "      <td>0.0</td>\n",
       "      <td>1.0</td>\n",
       "    </tr>\n",
       "    <tr>\n",
       "      <th>3</th>\n",
       "      <td>0.465831</td>\n",
       "      <td>0.383562</td>\n",
       "      <td>0.103925</td>\n",
       "      <td>0.500000</td>\n",
       "      <td>1.0</td>\n",
       "      <td>0.0</td>\n",
       "      <td>0.000000</td>\n",
       "      <td>0.346939</td>\n",
       "      <td>0.0</td>\n",
       "      <td>0.0</td>\n",
       "      <td>...</td>\n",
       "      <td>0.0</td>\n",
       "      <td>1.0</td>\n",
       "      <td>0.0</td>\n",
       "      <td>0.0</td>\n",
       "      <td>0.0</td>\n",
       "      <td>0.0</td>\n",
       "      <td>0.0</td>\n",
       "      <td>1.0</td>\n",
       "      <td>0.0</td>\n",
       "      <td>0.0</td>\n",
       "    </tr>\n",
       "    <tr>\n",
       "      <th>4</th>\n",
       "      <td>0.929789</td>\n",
       "      <td>0.205479</td>\n",
       "      <td>0.097010</td>\n",
       "      <td>0.500000</td>\n",
       "      <td>0.0</td>\n",
       "      <td>0.0</td>\n",
       "      <td>0.436639</td>\n",
       "      <td>0.500000</td>\n",
       "      <td>0.0</td>\n",
       "      <td>0.0</td>\n",
       "      <td>...</td>\n",
       "      <td>0.0</td>\n",
       "      <td>0.0</td>\n",
       "      <td>0.0</td>\n",
       "      <td>0.0</td>\n",
       "      <td>0.0</td>\n",
       "      <td>0.0</td>\n",
       "      <td>0.0</td>\n",
       "      <td>0.0</td>\n",
       "      <td>0.0</td>\n",
       "      <td>1.0</td>\n",
       "    </tr>\n",
       "  </tbody>\n",
       "</table>\n",
       "<p>5 rows × 46 columns</p>\n",
       "</div>"
      ],
      "text/plain": [
       "         ID       age    fnlwgt  education-num  sex  capital-gain  \\\n",
       "0  0.134801  0.205479  0.022461       0.500000  0.0           1.0   \n",
       "1  0.783378  0.013699  0.050902       0.571429  0.0           0.0   \n",
       "2  0.090267  0.273973  0.015786       0.571429  0.0           0.0   \n",
       "3  0.465831  0.383562  0.103925       0.500000  1.0           0.0   \n",
       "4  0.929789  0.205479  0.097010       0.500000  0.0           0.0   \n",
       "\n",
       "   capital-loss  hours-per-week  workclass_Federal-gov  workclass_Local-gov  \\\n",
       "0      0.000000        0.397959                    0.0                  0.0   \n",
       "1      0.000000        0.142857                    0.0                  0.0   \n",
       "2      0.000000        0.397959                    0.0                  0.0   \n",
       "3      0.000000        0.346939                    0.0                  0.0   \n",
       "4      0.436639        0.500000                    0.0                  0.0   \n",
       "\n",
       "   ...  relationship_Not-in-family  relationship_Other-relative  \\\n",
       "0  ...                         0.0                          0.0   \n",
       "1  ...                         0.0                          0.0   \n",
       "2  ...                         0.0                          0.0   \n",
       "3  ...                         0.0                          1.0   \n",
       "4  ...                         0.0                          0.0   \n",
       "\n",
       "   relationship_Own-child  relationship_Unmarried  relationship_Wife  \\\n",
       "0                     0.0                     0.0                0.0   \n",
       "1                     1.0                     0.0                0.0   \n",
       "2                     0.0                     0.0                0.0   \n",
       "3                     0.0                     0.0                0.0   \n",
       "4                     0.0                     0.0                0.0   \n",
       "\n",
       "   race_Amer-Indian-Eskimo  race_Asian-Pac-Islander  race_Black  race_Other  \\\n",
       "0                      0.0                      0.0         0.0         0.0   \n",
       "1                      0.0                      0.0         0.0         0.0   \n",
       "2                      0.0                      0.0         0.0         0.0   \n",
       "3                      0.0                      0.0         1.0         0.0   \n",
       "4                      0.0                      0.0         0.0         0.0   \n",
       "\n",
       "   race_White  \n",
       "0         1.0  \n",
       "1         1.0  \n",
       "2         1.0  \n",
       "3         0.0  \n",
       "4         1.0  \n",
       "\n",
       "[5 rows x 46 columns]"
      ]
     },
     "execution_count": 106,
     "metadata": {},
     "output_type": "execute_result"
    }
   ],
   "source": [
    "data_test.head()"
   ]
  },
  {
   "cell_type": "code",
   "execution_count": 43,
   "metadata": {},
   "outputs": [],
   "source": [
    "data_train['target'] = trainn\n",
    "data_test['target'] = testt"
   ]
  },
  {
   "cell_type": "code",
   "execution_count": 44,
   "metadata": {},
   "outputs": [],
   "source": [
    "x_train = data_train.copy()\n",
    "x_test = data_test.copy()\n",
    "y_train = data_train['target'].copy()\n",
    "y_test = data_test['target'].copy()"
   ]
  },
  {
   "cell_type": "code",
   "execution_count": 45,
   "metadata": {},
   "outputs": [],
   "source": [
    "x_train = x_train.drop('target', axis = 1)\n",
    "x_test = x_test.drop('target', axis = 1)"
   ]
  },
  {
   "cell_type": "code",
   "execution_count": 46,
   "metadata": {},
   "outputs": [
    {
     "name": "stdout",
     "output_type": "stream",
     "text": [
      "Fitting 5 folds for each of 10 candidates, totalling 50 fits\n"
     ]
    },
    {
     "name": "stderr",
     "output_type": "stream",
     "text": [
      "[Parallel(n_jobs=-1)]: Using backend LokyBackend with 12 concurrent workers.\n",
      "[Parallel(n_jobs=-1)]: Done   1 tasks      | elapsed:    3.7s\n",
      "[Parallel(n_jobs=-1)]: Done   8 tasks      | elapsed:    3.8s\n",
      "[Parallel(n_jobs=-1)]: Done  17 tasks      | elapsed:    4.3s\n",
      "[Parallel(n_jobs=-1)]: Done  26 tasks      | elapsed:    5.5s\n",
      "[Parallel(n_jobs=-1)]: Done  33 out of  50 | elapsed:    6.8s remaining:    3.5s\n",
      "[Parallel(n_jobs=-1)]: Done  39 out of  50 | elapsed:    7.2s remaining:    2.0s\n",
      "[Parallel(n_jobs=-1)]: Done  45 out of  50 | elapsed:    7.5s remaining:    0.7s\n",
      "[Parallel(n_jobs=-1)]: Done  50 out of  50 | elapsed:   14.8s finished\n"
     ]
    },
    {
     "name": "stdout",
     "output_type": "stream",
     "text": [
      "[LibLinear]"
     ]
    },
    {
     "data": {
      "text/plain": [
       "GridSearchCV(cv=5, estimator=LogisticRegression(verbose=True), n_jobs=-1,\n",
       "             param_grid=[{'C': [0.001, 0.01, 0.1, 1, 0.0001],\n",
       "                          'class_weight': ['balanced'], 'max_iter': [10000],\n",
       "                          'penalty': ['l1', 'l2'], 'solver': ['liblinear']}],\n",
       "             return_train_score=True, scoring='roc_auc', verbose=10)"
      ]
     },
     "execution_count": 46,
     "metadata": {},
     "output_type": "execute_result"
    }
   ],
   "source": [
    "scoring = 'roc_auc'\n",
    "params_lgr = [\n",
    "    {\n",
    "        'penalty': ['l1','l2'],\n",
    "        'solver' : ['liblinear'],\n",
    "        'C': [0.001,0.01,0.1,1, 0.0001],\n",
    "        'class_weight': ['balanced'],\n",
    "        'max_iter': [10000]\n",
    "    }\n",
    "]\n",
    "\n",
    "clf_logistic = GridSearchCV(LogisticRegression(verbose=True), params_lgr, scoring=scoring,\n",
    "                            return_train_score=True, verbose=10, cv=5, n_jobs =-1)\n",
    "\n",
    "clf_logistic.fit(x_train, y_train)"
   ]
  },
  {
   "cell_type": "code",
   "execution_count": 47,
   "metadata": {},
   "outputs": [
    {
     "data": {
      "text/plain": [
       "{'C': 1,\n",
       " 'class_weight': 'balanced',\n",
       " 'max_iter': 10000,\n",
       " 'penalty': 'l1',\n",
       " 'solver': 'liblinear'}"
      ]
     },
     "execution_count": 47,
     "metadata": {},
     "output_type": "execute_result"
    }
   ],
   "source": [
    "clf_logistic.cv_results_['params'][clf_logistic.best_index_]"
   ]
  },
  {
   "cell_type": "code",
   "execution_count": 48,
   "metadata": {},
   "outputs": [],
   "source": [
    "gs_logistic_results = clf_logistic.best_estimator_"
   ]
  },
  {
   "cell_type": "code",
   "execution_count": 49,
   "metadata": {},
   "outputs": [
    {
     "name": "stdout",
     "output_type": "stream",
     "text": [
      "[LibLinear]Wall time: 6.23 s\n"
     ]
    },
    {
     "data": {
      "text/plain": [
       "LogisticRegression(C=1, class_weight='balanced', max_iter=10000, penalty='l1',\n",
       "                   solver='liblinear', verbose=True)"
      ]
     },
     "execution_count": 49,
     "metadata": {},
     "output_type": "execute_result"
    }
   ],
   "source": [
    "clfs = gs_logistic_results\n",
    "%time clfs.fit(x_train, y_train.values)"
   ]
  },
  {
   "cell_type": "code",
   "execution_count": 50,
   "metadata": {},
   "outputs": [
    {
     "name": "stdout",
     "output_type": "stream",
     "text": [
      "              precision    recall  f1-score   support\n",
      "\n",
      "           0       0.94      0.79      0.86      5120\n",
      "           1       0.58      0.85      0.69      1749\n",
      "\n",
      "    accuracy                           0.81      6869\n",
      "   macro avg       0.76      0.82      0.77      6869\n",
      "weighted avg       0.85      0.81      0.82      6869\n",
      "\n"
     ]
    }
   ],
   "source": [
    "y_pred = clfs.predict(x_test)\n",
    "print(classification_report(y_test, y_pred))"
   ]
  },
  {
   "cell_type": "markdown",
   "metadata": {},
   "source": [
    "As it seems, we have a high recall and a good trade-off between the precision and recall, and a decent f1-score, model seems good."
   ]
  },
  {
   "cell_type": "code",
   "execution_count": 51,
   "metadata": {},
   "outputs": [],
   "source": [
    "data_test['pred'] = y_pred"
   ]
  },
  {
   "cell_type": "code",
   "execution_count": 52,
   "metadata": {},
   "outputs": [
    {
     "name": "stdout",
     "output_type": "stream",
     "text": [
      "[[4049 1071]\n",
      " [ 265 1484]]\n"
     ]
    }
   ],
   "source": [
    "cm=metrics.confusion_matrix(y_test,y_pred)\n",
    "print(cm)"
   ]
  },
  {
   "cell_type": "code",
   "execution_count": 53,
   "metadata": {},
   "outputs": [
    {
     "name": "stdout",
     "output_type": "stream",
     "text": [
      "80.55\n"
     ]
    }
   ],
   "source": [
    "lgr_accuracy = metrics.accuracy_score(y_test,y_pred)\n",
    "print(round((lgr_accuracy*100),3))"
   ]
  },
  {
   "cell_type": "code",
   "execution_count": 54,
   "metadata": {},
   "outputs": [
    {
     "name": "stdout",
     "output_type": "stream",
     "text": [
      "0.9041927976700972\n"
     ]
    }
   ],
   "source": [
    "print(roc_auc_score(y_test, clfs.predict_proba(x_test)[:, 1]))"
   ]
  },
  {
   "cell_type": "markdown",
   "metadata": {},
   "source": [
    "So we have 90% roc_auc score and 80.5% accuracy with a high recall and prcision."
   ]
  },
  {
   "cell_type": "code",
   "execution_count": 55,
   "metadata": {},
   "outputs": [
    {
     "data": {
      "text/plain": [
       "0    4314\n",
       "1    2555\n",
       "Name: pred, dtype: int64"
      ]
     },
     "execution_count": 55,
     "metadata": {},
     "output_type": "execute_result"
    }
   ],
   "source": [
    "data_test['pred'].value_counts()"
   ]
  },
  {
   "cell_type": "code",
   "execution_count": 56,
   "metadata": {},
   "outputs": [
    {
     "data": {
      "text/plain": [
       "0    5120\n",
       "1    1749\n",
       "Name: target, dtype: int64"
      ]
     },
     "execution_count": 56,
     "metadata": {},
     "output_type": "execute_result"
    }
   ],
   "source": [
    "data_test['target'].value_counts()"
   ]
  },
  {
   "cell_type": "markdown",
   "metadata": {},
   "source": [
    "To sum up, that is a pretty good model. This is my submition.\n",
    "If I had the time, I would do cross-validation and try other things like Shap for model evaluation."
   ]
  },
  {
   "cell_type": "markdown",
   "metadata": {},
   "source": [
    "I am sorry for the things I said in our phonecall after blacking-out, I hope this model would show that I do understand what is recall and regularization."
   ]
  },
  {
   "cell_type": "markdown",
   "metadata": {},
   "source": [
    "I will love to hear from you back :)"
   ]
  },
  {
   "cell_type": "markdown",
   "metadata": {},
   "source": [
    "Thank you"
   ]
  },
  {
   "cell_type": "code",
   "execution_count": 373,
   "metadata": {},
   "outputs": [],
   "source": [
    "from catboost import CatBoostClassifier,Pool"
   ]
  },
  {
   "cell_type": "code",
   "execution_count": 367,
   "metadata": {},
   "outputs": [
    {
     "name": "stdout",
     "output_type": "stream",
     "text": [
      "0:\tlearn: 0.3724352\ttotal: 3.59ms\tremaining: 68.1ms\n",
      "1:\tlearn: 0.3461275\ttotal: 8.82ms\tremaining: 79.4ms\n",
      "2:\tlearn: 0.3367742\ttotal: 14.7ms\tremaining: 83.5ms\n",
      "3:\tlearn: 0.3265315\ttotal: 28.3ms\tremaining: 113ms\n",
      "4:\tlearn: 0.3226687\ttotal: 35.2ms\tremaining: 106ms\n",
      "5:\tlearn: 0.3144655\ttotal: 40ms\tremaining: 93.4ms\n",
      "6:\tlearn: 0.3111525\ttotal: 48ms\tremaining: 89.2ms\n",
      "7:\tlearn: 0.3083472\ttotal: 55.9ms\tremaining: 83.8ms\n",
      "8:\tlearn: 0.3046588\ttotal: 65.5ms\tremaining: 80.1ms\n",
      "9:\tlearn: 0.2993225\ttotal: 71.3ms\tremaining: 71.3ms\n",
      "10:\tlearn: 0.2970685\ttotal: 85.6ms\tremaining: 70ms\n",
      "11:\tlearn: 0.2946757\ttotal: 91ms\tremaining: 60.7ms\n",
      "12:\tlearn: 0.2921124\ttotal: 115ms\tremaining: 61.8ms\n",
      "13:\tlearn: 0.2906209\ttotal: 120ms\tremaining: 51.2ms\n",
      "14:\tlearn: 0.2830607\ttotal: 129ms\tremaining: 42.9ms\n",
      "15:\tlearn: 0.2816478\ttotal: 140ms\tremaining: 34.9ms\n",
      "16:\tlearn: 0.2798998\ttotal: 145ms\tremaining: 25.5ms\n",
      "17:\tlearn: 0.2780391\ttotal: 151ms\tremaining: 16.8ms\n",
      "18:\tlearn: 0.2762737\ttotal: 157ms\tremaining: 8.29ms\n",
      "19:\tlearn: 0.2748268\ttotal: 165ms\tremaining: 0us\n",
      "0.9159281716417911\n"
     ]
    }
   ],
   "source": [
    "model = CatBoostClassifier(iterations=20,\n",
    "                           depth=5,\n",
    "                           learning_rate=1,\n",
    "                           loss_function='Logloss',\n",
    "                           verbose=True)\n",
    "# train the model\n",
    "model.fit(data_train.values, trainn.values)\n",
    "# make the prediction using the resulting model\n",
    "preds_class = model.predict(data_test.values)\n",
    "preds_proba = model.predict_proba(data_test.values)\n",
    "print(roc_auc_score(testt,preds_proba[:,1]))\n",
    "#print(\"class = \", preds_class)\n",
    "#print(\"proba = \", preds_proba)\n",
    "# data_train\n",
    "# data_test\n",
    "# data_val"
   ]
  },
  {
   "cell_type": "code",
   "execution_count": 378,
   "metadata": {},
   "outputs": [],
   "source": [
    "\n",
    "cat_df=pd.DataFrame({'feature_importance': model.get_feature_importance(Pool(data_train, trainn)), \n",
    "              'feature_names': data_train.columns}).sort_values(by=['feature_importance'], \n",
    "                                                           ascending=True)"
   ]
  },
  {
   "cell_type": "code",
   "execution_count": 383,
   "metadata": {},
   "outputs": [
    {
     "data": {
      "text/plain": [
       "<BarContainer object of 46 artists>"
      ]
     },
     "execution_count": 383,
     "metadata": {},
     "output_type": "execute_result"
    },
    {
     "data": {
      "image/png": "[encoded data removed]",
      "text/plain": [
       "<Figure size 1080x1080 with 1 Axes>"
      ]
     },
     "metadata": {},
     "output_type": "display_data"
    }
   ],
   "source": [
    "plt.figure(figsize=(15,15))\n",
    "plt.barh(cat_df['feature_names'],cat_df['feature_importance'])"
   ]
  },
  {
   "cell_type": "code",
   "execution_count": null,
   "metadata": {},
   "outputs": [],
   "source": []
  }
 ],
 "metadata": {
  "kernelspec": {
   "display_name": "main",
   "language": "python",
   "name": "main"
  },
  "language_info": {
   "codemirror_mode": {
    "name": "ipython",
    "version": 3
   },
   "file_extension": ".py",
   "mimetype": "text/x-python",
   "name": "python",
   "nbconvert_exporter": "python",
   "pygments_lexer": "ipython3",
   "version": "3.8.12"
  }
 },
 "nbformat": 4,
 "nbformat_minor": 4
}
