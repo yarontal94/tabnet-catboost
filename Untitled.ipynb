{
 "cells": [
  {
   "cell_type": "code",
   "execution_count": 4,
   "id": "fe5454b0-9487-4ce6-a07d-90fbd345a7c6",
   "metadata": {},
   "outputs": [],
   "source": [
    "import pandas as pd\n",
    "import numpy as np\n",
    "import seaborn as sns\n",
    "import matplotlib.pyplot as plt\n",
    "from sklearn.base import BaseEstimator,TransformerMixin\n",
    "from sklearn.pipeline import make_pipeline\n",
    "from sklearn.model_selection import train_test_split,GridSearchCV\n",
    "from sklearn.preprocessing import MinMaxScaler,StandardScaler,MultiLabelBinarizer\n",
    "from sklearn.linear_model import LogisticRegression\n",
    "import itertools\n",
    "from collections import Counter\n",
    "#asdasd\n",
    "sns.set_theme(style='darkgrid')"
   ]
  },
  {
   "cell_type": "code",
   "execution_count": 32,
   "id": "08bec3e3-b3ef-4551-b2bf-eab5f800b8da",
   "metadata": {},
   "outputs": [
    {
     "data": {
      "text/plain": [
       "['xxx1', 'xxx546', 'xxx456']"
      ]
     },
     "execution_count": 32,
     "metadata": {},
     "output_type": "execute_result"
    }
   ],
   "source": [
    "d={'Col1':['C','A','B'],'Col2':[33,34,35],'Col3':[['Apple', 'Orange', 'Banana'],['Apple', 'Grape'],['Banana']]}\n",
    "d={'Col1':['C','A','B','D'],'Col2':[33,34,35,36],'Col3':[[1, 546, 456],[456,41515,5454,48,48,84],[10,0,0],None]}\n",
    "df=pd.DataFrame(d)\n",
    "#df['Col3']=df['Col3'].apply(lambda x:x.replace('[[','[') if x is not None)\n",
    "df['Col3'].fillna('',inplace=True)\n",
    "#df['Col3']=df['Col3'].apply(lambda x:x.replace('[[','['))\n",
    "df['Col3']=df['Col3'].apply(lambda x: ['xxx' + str(i) for i in x if not str(x) == \"nan\"])\n",
    "df['Col3'].iloc[0]"
   ]
  },
  {
   "cell_type": "code",
   "execution_count": 25,
   "id": "3add1120-17f5-4e0a-96ac-0e0324fb745b",
   "metadata": {},
   "outputs": [
    {
     "ename": "NameError",
     "evalue": "name 'mlb' is not defined",
     "output_type": "error",
     "traceback": [
      "\u001b[0;31m---------------------------------------------------------------------------\u001b[0m",
      "\u001b[0;31mNameError\u001b[0m                                 Traceback (most recent call last)",
      "\u001b[0;32m/tmp/ipykernel_126/1587352644.py\u001b[0m in \u001b[0;36m<module>\u001b[0;34m\u001b[0m\n\u001b[1;32m      1\u001b[0m df = df.join(\n\u001b[1;32m      2\u001b[0m             pd.DataFrame.sparse.from_spmatrix(\n\u001b[0;32m----> 3\u001b[0;31m                 \u001b[0mmlb\u001b[0m\u001b[0;34m.\u001b[0m\u001b[0mfit_transform\u001b[0m\u001b[0;34m(\u001b[0m\u001b[0mdf\u001b[0m\u001b[0;34m.\u001b[0m\u001b[0mpop\u001b[0m\u001b[0;34m(\u001b[0m\u001b[0;34m'Col3'\u001b[0m\u001b[0;34m)\u001b[0m\u001b[0;34m)\u001b[0m\u001b[0;34m,\u001b[0m\u001b[0;34m\u001b[0m\u001b[0;34m\u001b[0m\u001b[0m\n\u001b[0m\u001b[1;32m      4\u001b[0m                 \u001b[0mindex\u001b[0m\u001b[0;34m=\u001b[0m\u001b[0mdf\u001b[0m\u001b[0;34m.\u001b[0m\u001b[0mindex\u001b[0m\u001b[0;34m,\u001b[0m\u001b[0;34m\u001b[0m\u001b[0;34m\u001b[0m\u001b[0m\n\u001b[1;32m      5\u001b[0m                 columns=mlb.classes_))\n",
      "\u001b[0;31mNameError\u001b[0m: name 'mlb' is not defined"
     ]
    }
   ],
   "source": [
    "\n",
    "df = df.join(\n",
    "            pd.DataFrame.sparse.from_spmatrix(\n",
    "                mlb.fit_transform(df.pop('Col3')),\n",
    "                index=df.index,\n",
    "                columns=mlb.classes_))\n",
    "df"
   ]
  },
  {
   "cell_type": "code",
   "execution_count": 75,
   "id": "56f25f6e-b234-4188-8021-23faf794ce31",
   "metadata": {},
   "outputs": [
    {
     "data": {
      "text/plain": [
       "{'Col1': ['C', 'A', 'B'],\n",
       " 'Col2': [33, 34, 35],\n",
       " 'Col3': [[1, 546, 456],\n",
       "  [456, 41515, 5454, 48, 48, 84],\n",
       "  [1,\n",
       "   2,\n",
       "   3,\n",
       "   4,\n",
       "   5,\n",
       "   6,\n",
       "   6,\n",
       "   7,\n",
       "   7,\n",
       "   8,\n",
       "   9,\n",
       "   9,\n",
       "   0,\n",
       "   0,\n",
       "   0,\n",
       "   0,\n",
       "   0,\n",
       "   0,\n",
       "   0,\n",
       "   0,\n",
       "   0,\n",
       "   0,\n",
       "   0,\n",
       "   0,\n",
       "   0,\n",
       "   0]]}"
      ]
     },
     "execution_count": 75,
     "metadata": {},
     "output_type": "execute_result"
    }
   ],
   "source": [
    "x=1000\n",
    "b = str(x).zfill(5)\n",
    "d"
   ]
  },
  {
   "cell_type": "code",
   "execution_count": 89,
   "id": "60ba29e8-beae-4215-818d-0825b0cfae87",
   "metadata": {},
   "outputs": [],
   "source": []
  },
  {
   "cell_type": "code",
   "execution_count": null,
   "id": "8e5eac18-0010-4171-8123-000302b10162",
   "metadata": {},
   "outputs": [],
   "source": []
  },
  {
   "cell_type": "code",
   "execution_count": 43,
   "id": "3d5292fd-8047-4037-9a71-7991771d4e31",
   "metadata": {},
   "outputs": [],
   "source": [
    "black=['xxx456','xxx10','0xxx0']\n",
    "df['Col3']=df['Col3'].apply(lambda x: [str(i).zfill(5) for i in x if not str(x) == \"nan\"])\n",
    "df['Col4'] = df['Col3'].apply(lambda x: [item for item in x if item not in black])"
   ]
  },
  {
   "cell_type": "code",
   "execution_count": 44,
   "id": "f7ef3cd5-c5dd-4479-801c-e2a5c99f7db3",
   "metadata": {},
   "outputs": [
    {
     "data": {
      "text/html": [
       "<div>\n",
       "<style scoped>\n",
       "    .dataframe tbody tr th:only-of-type {\n",
       "        vertical-align: middle;\n",
       "    }\n",
       "\n",
       "    .dataframe tbody tr th {\n",
       "        vertical-align: top;\n",
       "    }\n",
       "\n",
       "    .dataframe thead th {\n",
       "        text-align: right;\n",
       "    }\n",
       "</style>\n",
       "<table border=\"1\" class=\"dataframe\">\n",
       "  <thead>\n",
       "    <tr style=\"text-align: right;\">\n",
       "      <th></th>\n",
       "      <th>Col1</th>\n",
       "      <th>Col2</th>\n",
       "      <th>Col3</th>\n",
       "      <th>Col4</th>\n",
       "    </tr>\n",
       "  </thead>\n",
       "  <tbody>\n",
       "    <tr>\n",
       "      <th>0</th>\n",
       "      <td>C</td>\n",
       "      <td>33</td>\n",
       "      <td>[0xxx1, xxx546, xxx456]</td>\n",
       "      <td>[0xxx1, xxx546]</td>\n",
       "    </tr>\n",
       "    <tr>\n",
       "      <th>1</th>\n",
       "      <td>A</td>\n",
       "      <td>34</td>\n",
       "      <td>[xxx456, xxx41515, xxx5454, xxx48, xxx48, xxx84]</td>\n",
       "      <td>[xxx41515, xxx5454, xxx48, xxx48, xxx84]</td>\n",
       "    </tr>\n",
       "    <tr>\n",
       "      <th>2</th>\n",
       "      <td>B</td>\n",
       "      <td>35</td>\n",
       "      <td>[xxx10, 0xxx0, 0xxx0]</td>\n",
       "      <td>[]</td>\n",
       "    </tr>\n",
       "    <tr>\n",
       "      <th>3</th>\n",
       "      <td>D</td>\n",
       "      <td>36</td>\n",
       "      <td>[]</td>\n",
       "      <td>[]</td>\n",
       "    </tr>\n",
       "  </tbody>\n",
       "</table>\n",
       "</div>"
      ],
      "text/plain": [
       "  Col1  Col2                                              Col3  \\\n",
       "0    C    33                           [0xxx1, xxx546, xxx456]   \n",
       "1    A    34  [xxx456, xxx41515, xxx5454, xxx48, xxx48, xxx84]   \n",
       "2    B    35                             [xxx10, 0xxx0, 0xxx0]   \n",
       "3    D    36                                                []   \n",
       "\n",
       "                                       Col4  \n",
       "0                           [0xxx1, xxx546]  \n",
       "1  [xxx41515, xxx5454, xxx48, xxx48, xxx84]  \n",
       "2                                        []  \n",
       "3                                        []  "
      ]
     },
     "execution_count": 44,
     "metadata": {},
     "output_type": "execute_result"
    }
   ],
   "source": [
    "df"
   ]
  },
  {
   "cell_type": "code",
   "execution_count": 38,
   "id": "504e288a-16dd-4a1b-a250-1d757bf7af5c",
   "metadata": {},
   "outputs": [
    {
     "ename": "SyntaxError",
     "evalue": "invalid syntax (925228781.py, line 1)",
     "output_type": "error",
     "traceback": [
      "\u001b[0;36m  File \u001b[0;32m\"/tmp/ipykernel_126/925228781.py\"\u001b[0;36m, line \u001b[0;32m1\u001b[0m\n\u001b[0;31m    df['Col3']=df['Col3'].apply(lambda x: [i if i not in black for i in x])\u001b[0m\n\u001b[0m                                                               ^\u001b[0m\n\u001b[0;31mSyntaxError\u001b[0m\u001b[0;31m:\u001b[0m invalid syntax\n"
     ]
    }
   ],
   "source": [
    "\n",
    "\n",
    "df['Col3']=df['Col3'].apply(lambda x: [i if i not in black for i in x])"
   ]
  },
  {
   "cell_type": "code",
   "execution_count": 37,
   "id": "d7f4cde4-91f1-4222-95e5-e88c48a42eab",
   "metadata": {},
   "outputs": [
    {
     "ename": "NameError",
     "evalue": "name 'Counter' is not defined",
     "output_type": "error",
     "traceback": [
      "\u001b[0;31m---------------------------------------------------------------------------\u001b[0m",
      "\u001b[0;31mNameError\u001b[0m                                 Traceback (most recent call last)",
      "\u001b[0;32m/tmp/ipykernel_126/1636525842.py\u001b[0m in \u001b[0;36m<module>\u001b[0;34m\u001b[0m\n\u001b[1;32m      2\u001b[0m \u001b[0mab\u001b[0m \u001b[0;34m=\u001b[0m \u001b[0mitertools\u001b[0m\u001b[0;34m.\u001b[0m\u001b[0mchain\u001b[0m\u001b[0;34m(\u001b[0m\u001b[0;34m*\u001b[0m\u001b[0mdf\u001b[0m\u001b[0;34m[\u001b[0m\u001b[0;34m'Col3'\u001b[0m\u001b[0;34m]\u001b[0m\u001b[0;34m)\u001b[0m\u001b[0;34m\u001b[0m\u001b[0;34m\u001b[0m\u001b[0m\n\u001b[1;32m      3\u001b[0m \u001b[0mz\u001b[0m\u001b[0;34m=\u001b[0m\u001b[0mlist\u001b[0m\u001b[0;34m(\u001b[0m\u001b[0mab\u001b[0m\u001b[0;34m)\u001b[0m\u001b[0;34m\u001b[0m\u001b[0;34m\u001b[0m\u001b[0m\n\u001b[0;32m----> 4\u001b[0;31m \u001b[0mz_dict\u001b[0m\u001b[0;34m=\u001b[0m\u001b[0mCounter\u001b[0m\u001b[0;34m(\u001b[0m\u001b[0mz\u001b[0m\u001b[0;34m)\u001b[0m\u001b[0;34m\u001b[0m\u001b[0;34m\u001b[0m\u001b[0m\n\u001b[0m",
      "\u001b[0;31mNameError\u001b[0m: name 'Counter' is not defined"
     ]
    }
   ],
   "source": [
    "import itertools\n",
    "ab = itertools.chain(*df['Col3'])\n",
    "z=list(ab)\n",
    "z_dict=Counter(z)"
   ]
  },
  {
   "cell_type": "code",
   "execution_count": 63,
   "id": "4155cac5-0e1f-4a60-90ed-b5e054d6ac26",
   "metadata": {},
   "outputs": [
    {
     "ename": "TypeError",
     "evalue": "unsupported operand type(s) for /: 'Counter' and 'int'",
     "output_type": "error",
     "traceback": [
      "\u001b[0;31m---------------------------------------------------------------------------\u001b[0m",
      "\u001b[0;31mTypeError\u001b[0m                                 Traceback (most recent call last)",
      "\u001b[0;32m/tmp/ipykernel_194/1191913988.py\u001b[0m in \u001b[0;36m<module>\u001b[0;34m\u001b[0m\n\u001b[1;32m      3\u001b[0m \u001b[0;34m\u001b[0m\u001b[0m\n\u001b[1;32m      4\u001b[0m \u001b[0mz_dict\u001b[0m\u001b[0;34m=\u001b[0m\u001b[0mCounter\u001b[0m\u001b[0;34m(\u001b[0m\u001b[0mz\u001b[0m\u001b[0;34m)\u001b[0m\u001b[0;34m\u001b[0m\u001b[0;34m\u001b[0m\u001b[0m\n\u001b[0;32m----> 5\u001b[0;31m \u001b[0mz_dict\u001b[0m\u001b[0;34m/\u001b[0m\u001b[0;36m100\u001b[0m\u001b[0;34m\u001b[0m\u001b[0;34m\u001b[0m\u001b[0m\n\u001b[0m",
      "\u001b[0;31mTypeError\u001b[0m: unsupported operand type(s) for /: 'Counter' and 'int'"
     ]
    }
   ],
   "source": [
    "\n",
    "\n",
    "\n",
    "z_dict=Counter(z)\n",
    "z_dict/100"
   ]
  },
  {
   "cell_type": "code",
   "execution_count": 93,
   "id": "d6ec4058-360c-4a18-bf4a-8d3a1e8035f2",
   "metadata": {},
   "outputs": [
    {
     "data": {
      "text/html": [
       "<div>\n",
       "<style scoped>\n",
       "    .dataframe tbody tr th:only-of-type {\n",
       "        vertical-align: middle;\n",
       "    }\n",
       "\n",
       "    .dataframe tbody tr th {\n",
       "        vertical-align: top;\n",
       "    }\n",
       "\n",
       "    .dataframe thead th {\n",
       "        text-align: right;\n",
       "    }\n",
       "</style>\n",
       "<table border=\"1\" class=\"dataframe\">\n",
       "  <thead>\n",
       "    <tr style=\"text-align: right;\">\n",
       "      <th></th>\n",
       "      <th>Col1</th>\n",
       "      <th>Col2</th>\n",
       "      <th>00000</th>\n",
       "      <th>00001</th>\n",
       "      <th>00002</th>\n",
       "      <th>00003</th>\n",
       "      <th>00004</th>\n",
       "      <th>00005</th>\n",
       "      <th>00006</th>\n",
       "      <th>00007</th>\n",
       "      <th>...</th>\n",
       "      <th>Saverity_0</th>\n",
       "      <th>Saverity_1</th>\n",
       "      <th>Saverity_2</th>\n",
       "      <th>Saverity_3</th>\n",
       "      <th>Saverity_4</th>\n",
       "      <th>Saverity_5</th>\n",
       "      <th>Saverity_6</th>\n",
       "      <th>Saverity_7</th>\n",
       "      <th>Saverity_8</th>\n",
       "      <th>Saverity_9</th>\n",
       "    </tr>\n",
       "  </thead>\n",
       "  <tbody>\n",
       "    <tr>\n",
       "      <th>0</th>\n",
       "      <td>C</td>\n",
       "      <td>33</td>\n",
       "      <td>0</td>\n",
       "      <td>1</td>\n",
       "      <td>0</td>\n",
       "      <td>0</td>\n",
       "      <td>0</td>\n",
       "      <td>0</td>\n",
       "      <td>0</td>\n",
       "      <td>0</td>\n",
       "      <td>...</td>\n",
       "      <td>0</td>\n",
       "      <td>1</td>\n",
       "      <td>0</td>\n",
       "      <td>0</td>\n",
       "      <td>0</td>\n",
       "      <td>0</td>\n",
       "      <td>1</td>\n",
       "      <td>0</td>\n",
       "      <td>0</td>\n",
       "      <td>0</td>\n",
       "    </tr>\n",
       "    <tr>\n",
       "      <th>1</th>\n",
       "      <td>A</td>\n",
       "      <td>34</td>\n",
       "      <td>0</td>\n",
       "      <td>0</td>\n",
       "      <td>0</td>\n",
       "      <td>0</td>\n",
       "      <td>0</td>\n",
       "      <td>0</td>\n",
       "      <td>0</td>\n",
       "      <td>0</td>\n",
       "      <td>...</td>\n",
       "      <td>0</td>\n",
       "      <td>0</td>\n",
       "      <td>0</td>\n",
       "      <td>0</td>\n",
       "      <td>1</td>\n",
       "      <td>1</td>\n",
       "      <td>1</td>\n",
       "      <td>0</td>\n",
       "      <td>1</td>\n",
       "      <td>0</td>\n",
       "    </tr>\n",
       "    <tr>\n",
       "      <th>2</th>\n",
       "      <td>B</td>\n",
       "      <td>35</td>\n",
       "      <td>1</td>\n",
       "      <td>1</td>\n",
       "      <td>1</td>\n",
       "      <td>1</td>\n",
       "      <td>1</td>\n",
       "      <td>1</td>\n",
       "      <td>1</td>\n",
       "      <td>1</td>\n",
       "      <td>...</td>\n",
       "      <td>1</td>\n",
       "      <td>1</td>\n",
       "      <td>1</td>\n",
       "      <td>1</td>\n",
       "      <td>1</td>\n",
       "      <td>1</td>\n",
       "      <td>1</td>\n",
       "      <td>1</td>\n",
       "      <td>1</td>\n",
       "      <td>1</td>\n",
       "    </tr>\n",
       "  </tbody>\n",
       "</table>\n",
       "<p>3 rows × 28 columns</p>\n",
       "</div>"
      ],
      "text/plain": [
       "  Col1  Col2  00000  00001  00002  00003  00004  00005  00006  00007  ...  \\\n",
       "0    C    33      0      1      0      0      0      0      0      0  ...   \n",
       "1    A    34      0      0      0      0      0      0      0      0  ...   \n",
       "2    B    35      1      1      1      1      1      1      1      1  ...   \n",
       "\n",
       "   Saverity_0  Saverity_1  Saverity_2  Saverity_3  Saverity_4  Saverity_5  \\\n",
       "0           0           1           0           0           0           0   \n",
       "1           0           0           0           0           1           1   \n",
       "2           1           1           1           1           1           1   \n",
       "\n",
       "   Saverity_6  Saverity_7  Saverity_8  Saverity_9  \n",
       "0           1           0           0           0  \n",
       "1           1           0           1           0  \n",
       "2           1           1           1           1  \n",
       "\n",
       "[3 rows x 28 columns]"
      ]
     },
     "execution_count": 93,
     "metadata": {},
     "output_type": "execute_result"
    }
   ],
   "source": [
    "df=prefix_ADD\n",
    "df=get_pad(df)\n",
    "df=get_severity(df)\n",
    "\n",
    "df = df.join(\n",
    "            pd.DataFrame.sparse.from_spmatrix(\n",
    "                mlb.fit_transform(df.pop('Col3')),\n",
    "                index=df.index,\n",
    "                columns=mlb.classes_))\n",
    "df = df.join(\n",
    "            pd.DataFrame.sparse.from_spmatrix(\n",
    "                mlb.fit_transform(df.pop('Saverity')),\n",
    "                index=df.index,\n",
    "                columns=mlb.classes_))\n",
    "df"
   ]
  },
  {
   "cell_type": "code",
   "execution_count": 87,
   "id": "ec7368c7-f765-4d75-b9d9-5028bbe91526",
   "metadata": {},
   "outputs": [],
   "source": [
    "def prefix_ADD (str_ADD,x):\n",
    "    return [str_ADD + str(i) for i in x if not str(x) == \"nan\"]\n",
    "\n",
    "def get_pad(X):\n",
    "# seifey likuy padding in case of less then five digits\n",
    "    data=X.copy()\n",
    "    data['Col3']=data['Col3'].apply(lambda x: [str(i).zfill(5) for i in x if not str(x) == \"nan\"])\n",
    "    \n",
    "    return data\n",
    "\n",
    "def get_severity(X):\n",
    "    data=X.copy()\n",
    "    data['Saverity']=data['Col3'].apply(lambda x: [i[4] for i in x if not str(x) == \"nan\"])\n",
    "    data['Saverity']=data['Saverity'].apply(lambda x: prefix_ADD('Saverity_',x))\n",
    "    return data\n",
    "\n",
    "def get_group(X):\n",
    "    data=X.copy()\n",
    "    data['Groups']=data['Col3'].apply(lambda x: [i[3] for i in x if not str(x) == \"nan\"])\n",
    "    \n",
    "    return data\n",
    "\n",
    "def get_sub_gruop(X):\n",
    "    data=X.copy()\n",
    "    data['Sub_groups']=data['Col3'].apply(lambda x: [i[2] for i in x if not str(x) == \"nan\"])\n",
    "    \n",
    "    return data\n",
    "\n",
    "#fit stage\n",
    "def calc_below_min_sample(self,X):\n",
    "    ab = itertools.chain(*df['Col3'])\n",
    "    z=list(ab)\n",
    "    z_dict=Counter(z)\n",
    "    self.black_list=[k for k, v in z_dict.items() if v < self.min_sample]\n",
    "    return X\n",
    "\n",
    "def drop_val_from_blacklist(self,X):\n",
    "    data=X.copy()\n",
    "    df['Col4'] = df['Col3'].apply(lambda x: [item for item in x if item not in self.black_list])\n",
    "    \n",
    "\n",
    "# def seifiy_likuy_preprocess(X,y=None):\n",
    "#     # get data frame  with seifey likuy as string and return column of python lists\n",
    "    \n",
    "# def bagruyot_preprocess(X,y=None):    \n",
    "#     # get data frame  with bagruyot as string and return column of python lists\n",
    "\n",
    "\n",
    "def seifey_likuy_transformer(X,y=None,min_samples=0,seif_likuy=True,severity_group=True,group_seif_likuy=True,sub_group_seif_likuy=True):\n",
    "    data=X.copy()\n",
    "    data=seifiy_likuy_preprocess(data,y=None)\n",
    "    mlb = MultiLabelBinarizer(sparse_output=True)\n",
    "    \n",
    "    \n",
    "    \"\"\"\n",
    "    get data frame and return indicators of seifey likuy\n",
    "    X=dataframe\n",
    "    y=target\n",
    "    min_ratio= min samples of specfic seif likuy \n",
    "    seif_likuy= flag of single seif likuy as indicators\n",
    "    severity_group= flag of severity group of seif likuy as indicators\n",
    "    group_seif_likuy=flag of group of  seif likuy as indicators\n",
    "    sub_group_seif_likuy=flag of sub group seif likuy as indicators\n",
    "    \"\"\"\n",
    "    "
   ]
  },
  {
   "cell_type": "code",
   "execution_count": 26,
   "id": "04e0a35f-faa1-4125-91e1-d50360d3367c",
   "metadata": {},
   "outputs": [],
   "source": [
    "mlb = MultiLabelBinarizer(sparse_output=True)\n",
    "\n",
    "df = df.join(\n",
    "            pd.DataFrame.sparse.from_spmatrix(\n",
    "                mlb.fit_transform(df.pop('Col3')),\n",
    "                index=df.index,\n",
    "                columns=mlb.classes_))"
   ]
  },
  {
   "cell_type": "code",
   "execution_count": 49,
   "id": "8160bd77-a271-4682-929f-51ecbd060ca8",
   "metadata": {},
   "outputs": [
    {
     "data": {
      "text/plain": [
       "['a', 'ccc']"
      ]
     },
     "execution_count": 49,
     "metadata": {},
     "output_type": "execute_result"
    }
   ],
   "source": [
    "d={'a':19,'b':16,'ccc':88}\n",
    "d = [k for k, v in d.items() if v > 16]\n",
    "d"
   ]
  },
  {
   "cell_type": "code",
   "execution_count": null,
   "id": "a6437cef-b352-4a41-bf18-99b94c6a6391",
   "metadata": {},
   "outputs": [],
   "source": []
  }
 ],
 "metadata": {
  "kernelspec": {
   "display_name": "main",
   "language": "python",
   "name": "main"
  },
  "language_info": {
   "codemirror_mode": {
    "name": "ipython",
    "version": 3
   },
   "file_extension": ".py",
   "mimetype": "text/x-python",
   "name": "python",
   "nbconvert_exporter": "python",
   "pygments_lexer": "ipython3",
   "version": "3.8.12"
  }
 },
 "nbformat": 4,
 "nbformat_minor": 5
}
